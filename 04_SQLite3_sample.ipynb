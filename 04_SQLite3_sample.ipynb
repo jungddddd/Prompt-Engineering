{
 "cells": [
  {
   "cell_type": "markdown",
   "id": "9258693c-a06a-495e-85b1-338862eb1336",
   "metadata": {},
   "source": [
    "## SQLite3 데이터 베이스 사용법"
   ]
  },
  {
   "cell_type": "code",
   "execution_count": 47,
   "id": "9d680ff2-810e-44e2-bb8d-4506006ede12",
   "metadata": {},
   "outputs": [],
   "source": [
    "# SQLite3 DB 초기화 : sample.db\n",
    "import sqlite3\n",
    "\n",
    "# sample.db라는 파일 기반의 SQLite 데이터베이스에 연결\n",
    "# 해당 파일이 없으면 새로 생성한다.\n",
    "conn = sqlite3.connect('sample.db')\n",
    "\n",
    "# SQL 명령을 실행하기 위해 커서 객체를 생성\n",
    "c = conn.cursor()\n",
    "\n",
    "# 테이블 생성: conversations라는 테이블을 생성. id는 기본 키이며 자동으로 증가합니다. \n",
    "# question, answer 컬럼(스키마)을 정의\n",
    "c.execute('''\n",
    "    CREATE TABLE IF NOT EXISTS conversations (\n",
    "        id INTEGER PRIMARY KEY AUTOINCREMENT,\n",
    "        question TEXT,\n",
    "        answer TEXT\n",
    "    )\n",
    "''')\n",
    "\n",
    "conn.commit() # 변경 사항 저장 (커밋)\n",
    "conn.close()  # 데이터베이스 연결 종료"
   ]
  },
  {
   "cell_type": "code",
   "execution_count": 92,
   "id": "94a6945d-7635-4aeb-ae9e-f993f2bafd69",
   "metadata": {},
   "outputs": [],
   "source": [
    "# DB에 데이터 저장하기\n",
    "\n",
    "# 저장할 데이터\n",
    "question = '하늘은 왜 파란가요?'\n",
    "answer = '하늘이 파란 이유는 주로 대기 중의 산란 현상 때문입니다'\n",
    "\n",
    "# sample.db라는 파일 기반의 SQLite 데이터베이스에 연결\n",
    "# 해당 파일이 없으면 새로 생성한다.\n",
    "conn = sqlite3.connect('sample.db')\n",
    "\n",
    "# SQL 명령을 실행하기 위해 커서 객체를 생성\n",
    "c = conn.cursor()\n",
    "\n",
    "# 데이터 삽입 : conversations 테이블에 데이터를 삽입 \n",
    "# ?는 자리표시자(placeholder)로, 실제 값은 튜플로 전달된다.\n",
    "\n",
    "c.execute('''\n",
    "    INSERT INTO conversations (question, answer) VALUES (?, ?)\n",
    "''', (question, answer))\n",
    "\n",
    "conn.commit() # 변경 사항 저장 (커밋)\n",
    "conn.close()  # 데이터베이스 연결 종료"
   ]
  },
  {
   "cell_type": "code",
   "execution_count": 94,
   "id": "91bccb3f-6be6-468e-a270-415efcde05e8",
   "metadata": {},
   "outputs": [
    {
     "name": "stdout",
     "output_type": "stream",
     "text": [
      "[(9, '하늘은 왜 파란가요?', '하늘이 파란 이유는 주로 대기 중의 산란 현상 때문입니다')]\n"
     ]
    }
   ],
   "source": [
    "# 데이터 조회 및 출력\n",
    "conn = sqlite3.connect('sample.db')\n",
    "c = conn.cursor()\n",
    "\n",
    "# 테이블의 모든 데이터를 조회\n",
    "c.execute('SELECT * FROM conversations')\n",
    "\n",
    "# SQL 쿼리의 결과로 반환된 모든 행을 한꺼번에 가져오고 리스트로 반환\n",
    "conversations = c.fetchall()\n",
    "\n",
    "# 결과 출력\n",
    "print(conversations)\n",
    "\n",
    "conn.close()  # 데이터베이스 연결 종료"
   ]
  },
  {
   "cell_type": "code",
   "execution_count": 29,
   "id": "4885beb9-8a7f-42fe-8ed0-09d236099351",
   "metadata": {},
   "outputs": [],
   "source": [
    "# 데이터 삭제 : ID\n",
    "conn = sqlite3.connect('sample.db')\n",
    "c = conn.cursor()\n",
    "\n",
    "# 삭제할 특정 행의 ID\n",
    "delete_id = 1\n",
    "\n",
    "# 해당 ID의 행 삭제\n",
    "c.execute('''\n",
    "    DELETE FROM conversations WHERE id = ?\n",
    "    ''', (delete_id,))\n",
    "\n",
    "conn.commit() # 변경 사항 저장 (커밋)\n",
    "conn.close()  # 데이터베이스 연결 종료"
   ]
  },
  {
   "cell_type": "code",
   "execution_count": 39,
   "id": "7c2c980f-5876-4321-8035-89b500217f3f",
   "metadata": {},
   "outputs": [],
   "source": [
    "# 데이터 삭제 : 질문\n",
    "conn = sqlite3.connect('sample.db')\n",
    "c = conn.cursor()\n",
    "\n",
    "# 삭제할 특정 행의 질문\n",
    "delete_question = '하늘은 왜 파란가요?'\n",
    "\n",
    "# 해당 질문의 행 삭제\n",
    "c.execute('''\n",
    "    DELETE FROM conversations WHERE question = ?\n",
    "    ''', (delete_question,))\n",
    "\n",
    "conn.commit() # 변경 사항 저장 (커밋)\n",
    "conn.close()  # 데이터베이스 연결 종료\n",
    "# 동일한 질문이 있으면 모두 삭제"
   ]
  },
  {
   "cell_type": "markdown",
   "id": "4c09a08f-0cce-48f2-8a98-0a5f40cf2e30",
   "metadata": {},
   "source": [
    "### 함수로 구현하기\n",
    ": database.py"
   ]
  },
  {
   "cell_type": "code",
   "execution_count": 102,
   "id": "b6f8b4c3-c96f-4c64-9cf6-b89ee474ee37",
   "metadata": {},
   "outputs": [
    {
     "name": "stdout",
     "output_type": "stream",
     "text": [
      "Writing database.py\n"
     ]
    }
   ],
   "source": [
    "%%writefile database.py\n",
    "import sqlite3\n",
    "\n",
    "# DB 초기화\n",
    "def init_db():\n",
    "    conn = sqlite3.connect('sample.db')\n",
    "    c = conn.cursor()\n",
    "\n",
    "    c.execute('''\n",
    "        CREATE TABLE IF NOT EXISTS conversations (\n",
    "            id INTEGER PRIMARY KEY AUTOINCREMENT,\n",
    "            question TEXT,\n",
    "            answer TEXT\n",
    "        )\n",
    "    ''')\n",
    "\n",
    "    conn.commit() \n",
    "    conn.close() \n",
    "\n",
    "# 저장하기\n",
    "def save_conversation(question,answer):\n",
    "    conn = sqlite3.connect('sample.db')\n",
    "    c = conn.cursor()\n",
    "    c.execute('''\n",
    "        INSERT INTO conversations (question, answer) VALUES (?, ?)\n",
    "    ''', (question, answer))\n",
    "    conn.commit() \n",
    "    conn.close()  \n",
    "\n",
    "# 불러오기\n",
    "def get_conversations():\n",
    "    conn = sqlite3.connect('sample.db')\n",
    "    c = conn.cursor()\n",
    "    c.execute('SELECT * FROM conversations')\n",
    "    conversations = c.fetchall()\n",
    "    conn.close()\n",
    "    return conversations  \n",
    "\n",
    "# 삭제하기\n",
    "def delete_conversation(id_key=None,question=None):\n",
    "    conn = sqlite3.connect('sample.db')\n",
    "    c = conn.cursor()\n",
    "    \n",
    "    if id_key :\n",
    "        c.execute('''\n",
    "            DELETE FROM conversations WHERE id = ?\n",
    "            ''', (id_key,))\n",
    "        conn.commit() \n",
    "    elif question:\n",
    "        c.execute('''\n",
    "            DELETE FROM conversations WHERE question = ?\n",
    "            ''', (question,))\n",
    "        conn.commit() \n",
    "    \n",
    "    conn.close()   \n",
    "\n",
    "if __name__ == '__main__':\n",
    "    init_db()\n",
    "    save_conversation('Hello','Hello! How can I assist you today?')\n",
    "    # delete_conversation(id_key=1)\n",
    "    # delete_conversation(question='Hello')    \n",
    "    print(get_conversations())"
   ]
  },
  {
   "cell_type": "code",
   "execution_count": null,
   "id": "be4bba5c-7a94-4a69-a902-9c9e55c81d14",
   "metadata": {},
   "outputs": [],
   "source": []
  }
 ],
 "metadata": {
  "kernelspec": {
   "display_name": "Python [conda env:base] *",
   "language": "python",
   "name": "conda-base-py"
  },
  "language_info": {
   "codemirror_mode": {
    "name": "ipython",
    "version": 3
   },
   "file_extension": ".py",
   "mimetype": "text/x-python",
   "name": "python",
   "nbconvert_exporter": "python",
   "pygments_lexer": "ipython3",
   "version": "3.12.7"
  }
 },
 "nbformat": 4,
 "nbformat_minor": 5
}
