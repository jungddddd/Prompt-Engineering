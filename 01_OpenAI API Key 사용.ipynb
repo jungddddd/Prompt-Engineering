{
 "cells": [
  {
   "cell_type": "markdown",
   "id": "ac8c0d95-de73-40d7-8874-188448c8c090",
   "metadata": {},
   "source": [
    "### OpenAI API Key 사용"
   ]
  },
  {
   "cell_type": "code",
   "execution_count": 1,
   "id": "b033d65d-1c77-4b65-a02b-a195b029f6d9",
   "metadata": {},
   "outputs": [
    {
     "name": "stdout",
     "output_type": "stream",
     "text": [
      "1.61.1\n"
     ]
    }
   ],
   "source": [
    "# ! pip install openai\n",
    "import openai\n",
    "print(openai.__version__)  # 1.61.1"
   ]
  },
  {
   "cell_type": "code",
   "execution_count": 3,
   "id": "a3d4eb42-f31e-494f-82b3-e2b89a4e063f",
   "metadata": {},
   "outputs": [],
   "source": [
    "from openai import OpenAI\n",
    "\n",
    "API_KEY = \"YOUR API KEY\"\n",
    "client = OpenAI(api_key=API_KEY)"
   ]
  },
  {
   "cell_type": "code",
   "execution_count": 17,
   "id": "704911f4-5c77-4145-9da0-b6a745a12bcd",
   "metadata": {},
   "outputs": [
    {
     "name": "stdout",
     "output_type": "stream",
     "text": [
      "I am an AI language model created by OpenAI, designed to assist with a variety of queries and provide information on a wide range of topics. How can I help you today?\n"
     ]
    }
   ],
   "source": [
    "# print(type(client))  # class 'openai.OpenAI\n",
    "\n",
    "completion = client.chat.completions.create( \n",
    "    model = \"gpt-4o-mini\",\n",
    "    messages = [\n",
    "        {\"role\" : \"user\",\n",
    "         \"content\" : \"Who are you?\"}\n",
    "    ]\n",
    ")\n",
    "print(completion.choices[0].message.content)"
   ]
  },
  {
   "cell_type": "code",
   "execution_count": 19,
   "id": "bec5079a-ade3-4854-915b-c31223a7eb0c",
   "metadata": {},
   "outputs": [
    {
     "name": "stdout",
     "output_type": "stream",
     "text": [
      "하늘이 파란 이유는 대기 중의 산란 현상 때문입니다. 태양빛은 여러 색의 빛으로 이루어져 있으며, 이 중 파란색 빛은 파장이 짧고 산란이 잘 됩니다. 태양빛이 대기에 들어오면, 짧은 파장의 파란색 빛이 대기 중의 분자와의 충돌로 인해 여러 방향으로 산란됩니다. 이 때문에 우리가 하늘을 바라볼 때 주로 파란색이 보이게 됩니다.\n",
      "\n",
      "반면, 생긴 길이가 긴 빨간빛은 산란되기 어려워 상대적으로 하늘의 색에는 덜 영향을 미칩니다. 이 현상은 레일리 산란(Rayleigh scattering)이라고도 하며, 태양의 위치에 따라 하늘의 색이 변하는 것도 이와 관련이 있습니다. 예를 들어, 일출이나 일몰 때는 태양빛이 대기를 더 많이 통과하면서 더 많은 산란이 일어나기 때문에 주황색이나 붉은색으로 보일 수 있습니다.\n"
     ]
    }
   ],
   "source": [
    "completion = client.chat.completions.create( \n",
    "    model = \"gpt-4o-mini\",\n",
    "    messages = [\n",
    "        {\"role\" : \"user\",\n",
    "         \"content\" : \"하늘은 왜 파란가요\"}\n",
    "    ]\n",
    ")\n",
    "print(completion.choices[0].message.content)"
   ]
  },
  {
   "cell_type": "code",
   "execution_count": 21,
   "id": "75866d6f-4b5e-459e-87eb-e5142fdc96d1",
   "metadata": {},
   "outputs": [
    {
     "name": "stdout",
     "output_type": "stream",
     "text": [
      "“노란 이유는?”이라는 질문은 문맥에 따라 여러 해석이 가능합니다. 예를 들어, 노란색이 특정 물체의 색깔이라면 그 물체의 색깔에 관련된 이유일 수 있고, 계절이나 감정과 관련된 심리적 의미를 물어보는 것일 수도 있습니다. 혹시 특정한 상황이나 주제를 염두에 두고 계신 건가요? 더 구체적인 정보를 주시면 더 정확한 답변을 드릴 수 있습니다!\n"
     ]
    }
   ],
   "source": [
    "completion = client.chat.completions.create( \n",
    "    model = \"gpt-4o-mini\",\n",
    "    messages = [\n",
    "        {\"role\" : \"user\",\n",
    "         \"content\" : \"노란 이유는?\"}\n",
    "    ]\n",
    ")\n",
    "print(completion.choices[0].message.content)"
   ]
  },
  {
   "cell_type": "code",
   "execution_count": 31,
   "id": "69974804-542d-41d9-a1a6-6e5493d764c2",
   "metadata": {},
   "outputs": [
    {
     "name": "stdout",
     "output_type": "stream",
     "text": [
      "“노란 이유는?”이라는 질문은 문맥에 따라 여러 해석이 가능합니다. 예를 들어, 노란색이 특정 물체의 색깔이라면 그 물체의 색깔에 관련된 이유일 수 있고, 계절이나 감정과 관련된 심리적 의미를 물어보는 것일 수도 있습니다. 혹시 특정한 상황이나 주제를 염두에 두고 계신 건가요? 더 구체적인 정보를 주시면 더 정확한 답변을 드릴 수 있습니다!\n"
     ]
    }
   ],
   "source": [
    "# print(completion)\n",
    "# print(completion.choices[0])\n",
    "# print(completion.choices[0].message)\n",
    "print(completion.choices[0].message.content)"
   ]
  },
  {
   "cell_type": "code",
   "execution_count": 37,
   "id": "84bdd706-feef-4e3d-9b37-ce9f10d8d6ba",
   "metadata": {},
   "outputs": [
    {
     "name": "stdout",
     "output_type": "stream",
     "text": [
      "This is a test.\n"
     ]
    }
   ],
   "source": [
    "completion = client.chat.completions.create( \n",
    "    model = \"gpt-4o-mini\",\n",
    "    messages = [\n",
    "        {\"role\": \"system\", \"content\": \"You are a helpful assistant.\"},  # 페르소나(Persona)\n",
    "        {\"role\" : \"user\", \"content\" : \"Say this is a test.\"}\n",
    "    ]\n",
    ")\n",
    "print(completion.choices[0].message.content)"
   ]
  },
  {
   "cell_type": "code",
   "execution_count": 45,
   "id": "1b2accbf-27ac-4af4-ab39-065a93bc7863",
   "metadata": {},
   "outputs": [
    {
     "name": "stdout",
     "output_type": "stream",
     "text": [
      "2020 도쿄 올림픽의 종합 우승국은 미국입니다. 미국은 총 113개의 메달(금메달 39개, 은메달 41개, 동메달 33개)을 획득하여 메달 집계에서 1위를 차지했습니다.\n"
     ]
    }
   ],
   "source": [
    "completion = client.chat.completions.create( \n",
    "    model = \"gpt-4o-mini\",\n",
    "    # model = \"gpt-4o\",\n",
    "    messages = [\n",
    "        {\n",
    "            \"role\" : \"user\", \n",
    "            # \"content\" : \"2024 파리 올림픽 종합 우승국은 ?\"}\n",
    "             \"content\" : \"2020 도쿄 올림픽 종합 우승국은 ?\"}\n",
    "    ]\n",
    ")\n",
    "print(completion.choices[0].message.content)"
   ]
  },
  {
   "cell_type": "code",
   "execution_count": 55,
   "id": "f94613ff-a67d-4e25-8348-73f9514bdff3",
   "metadata": {},
   "outputs": [],
   "source": [
    "# API KEY를 파일로 저장하여 관리\n",
    "# ! pip install python-dotenv\n",
    "\n",
    "from dotenv import load_dotenv\n",
    "import os\n",
    "\n",
    "# .env 파일의 내용을 환경 변수로 불러오기\n",
    "load_dotenv(\"C:/env/.env\")\n",
    "\n",
    "# 환경 변수 가져오기\n",
    "API_KEY = os.getenv(\"OPENAI_API_KEY\")\n",
    "# print(API_KEY)"
   ]
  },
  {
   "cell_type": "code",
   "execution_count": 59,
   "id": "7a8a0d0d-c247-418c-95aa-17488f58bb96",
   "metadata": {},
   "outputs": [],
   "source": [
    "# 프롬프트 구성 요소 설정\n",
    "instruction = \"다음 글을 요약해 주세요:\"\n",
    "context = \"이 글은 기후 변화가 해양 생물에 미치는 영향에 대한 과학적 논문에서 발췌한 것입니다.\"\n",
    "input_data = \"연구에 따르면, 해수 온도의 상승이 산호초 개체수의 급격한 감소를 초래했다고 합니다.\"\n",
    "output_directive = \"요약은 간결하게 작성하고, 일반 대중이 이해할 수 있는 형태로 작성해 주세요.\"\n",
    "\n",
    "# 프롬프트 결합\n",
    "prompt = f\"{instruction}\\n\\n문맥: {context}\\n\\n텍스트: {input_data}\\n\\n{output_directive}\""
   ]
  },
  {
   "cell_type": "code",
   "execution_count": 61,
   "id": "b8588053-8bc3-45c5-93ec-99a4e87425b5",
   "metadata": {},
   "outputs": [
    {
     "data": {
      "text/plain": [
       "'다음 글을 요약해 주세요:\\n\\n문맥: 이 글은 기후 변화가 해양 생물에 미치는 영향에 대한 과학적 논문에서 발췌한 것입니다.\\n\\n텍스트: 연구에 따르면, 해수 온도의 상승이 산호초 개체수의 급격한 감소를 초래했다고 합니다.\\n\\n요약은 간결하게 작성하고, 일반 대중이 이해할 수 있는 형태로 작성해 주세요.'"
      ]
     },
     "execution_count": 61,
     "metadata": {},
     "output_type": "execute_result"
    }
   ],
   "source": [
    "prompt"
   ]
  },
  {
   "cell_type": "code",
   "execution_count": 63,
   "id": "5ef380d2-fe58-485c-9ec4-aff328167285",
   "metadata": {},
   "outputs": [
    {
     "name": "stdout",
     "output_type": "stream",
     "text": [
      "연구 결과, 해수 온도가 상승하면서 산호초가 급격히 감소하고 있다는 사실이 밝혀졌습니다.\n"
     ]
    }
   ],
   "source": [
    "# OpenAI API 호출\n",
    "client = OpenAI(api_key=API_KEY)\n",
    "\n",
    "response = client.chat.completions.create(\n",
    "  model=\"gpt-4o-mini\",\n",
    "  messages=[ {\"role\": \"user\", \"content\": prompt}]\n",
    ")\n",
    "\n",
    "# 응답 출력\n",
    "print(response.choices[0].message.content)"
   ]
  },
  {
   "cell_type": "code",
   "execution_count": null,
   "id": "702de521-b5f9-457a-8248-e2bf540d66b0",
   "metadata": {},
   "outputs": [],
   "source": []
  }
 ],
 "metadata": {
  "kernelspec": {
   "display_name": "Python [conda env:base] *",
   "language": "python",
   "name": "conda-base-py"
  },
  "language_info": {
   "codemirror_mode": {
    "name": "ipython",
    "version": 3
   },
   "file_extension": ".py",
   "mimetype": "text/x-python",
   "name": "python",
   "nbconvert_exporter": "python",
   "pygments_lexer": "ipython3",
   "version": "3.12.7"
  }
 },
 "nbformat": 4,
 "nbformat_minor": 5
}
