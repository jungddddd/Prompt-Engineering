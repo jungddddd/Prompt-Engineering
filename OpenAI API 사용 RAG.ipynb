{
 "cells": [
  {
   "cell_type": "markdown",
   "id": "6529e0ee-48cf-47e0-b8bf-4ee0746856ad",
   "metadata": {},
   "source": [
    "# OpenAI API 사용 RAG (검색 증강 생성)\n",
    ": https://www.promptingguide.ai/kr/techniques/rag\n",
    "\n",
    "문서를 벡터로 변환(임베딩) : 텍스트 데이터를 고차원 벡터 공간으로 매핑하는 작업"
   ]
  },
  {
   "cell_type": "code",
   "execution_count": 1,
   "id": "52fc53e9-729a-46a8-b4c3-f095e6c11622",
   "metadata": {},
   "outputs": [],
   "source": [
    "import os\n",
    "from dotenv import load_dotenv\n",
    "\n",
    "# .env 파일의 내용 불러오기\n",
    "load_dotenv(\"C:/env/.env\")\n",
    "\n",
    "# 환경 변수 가져오기\n",
    "API_KEY = os.getenv(\"OPENAI_API_KEY\")\n",
    "# print(API_KEY)\n",
    "\n",
    "from openai import OpenAI\n",
    "client = OpenAI(api_key=API_KEY)"
   ]
  },
  {
   "cell_type": "code",
   "execution_count": 7,
   "id": "290e3c5d-228c-40a7-a1fa-6266e7abcc11",
   "metadata": {},
   "outputs": [],
   "source": [
    "# ! pip install faiss-cpu\n",
    "import faiss\n",
    "import numpy as np\n",
    "\n",
    "# 샘플 문서데이터 (텍스트)\n",
    "documents = [\n",
    "    \"OpenAI는 인공지능 연구소입니다.\",\n",
    "    \"FAISS는 Facebook AI에서 개발한 벡터 검색 라이브러리입니다.\",\n",
    "    \"GPT는 자연어 처리를 위한 강력한 AI 모델입니다.\",\n",
    "    \"RAG는 검색 기반 생성 기법을 활용하여 AI 응답을 향상시키는 방법입니다.\"    \n",
    "]"
   ]
  },
  {
   "cell_type": "raw",
   "id": "682fac4d-736e-4e39-acfe-43c72ad5b5bd",
   "metadata": {},
   "source": [
    "# 워드 임베딩 : 가중치(Weight)를 생성\n",
    "# Tokenizer : 숫자로 인코딩하고 패딩 처리\n",
    "\n",
    "* max length : 문장의 최대 길이  --> 20\n",
    "텍스트 데이터를 고차원 벡터 공간으로 매핑하는 작업  : 10\n",
    "[10 201 45 678 22 33 665 657 345 99 0 0 0 0 0 0 0 0 0 0]\n",
    "\n",
    "파일의 내용 불러오기 :6\n",
    "[44 5 5 677 888 110 0 0 0 0 0 0 0 0 0 0 0 0 0 0]\n",
    "\n",
    "안녕~  : 3\n",
    "[23 43 12 0 0 0 0 0 0 0 0 0 0 0 0 0 0 0 0 0]"
   ]
  },
  {
   "cell_type": "code",
   "execution_count": 3,
   "id": "e538a186-1a49-496e-b516-4d5d218a9e5f",
   "metadata": {},
   "outputs": [
    {
     "name": "stdout",
     "output_type": "stream",
     "text": [
      "[[-0.00690352 -0.03443271 -0.01008424 ... -0.01365029  0.00289007\n",
      "   0.00851021]\n",
      " [-0.03228273  0.00873255 -0.00940116 ...  0.00610198 -0.00356596\n",
      "  -0.01077216]\n",
      " [ 0.00221576 -0.01288273  0.00589113 ... -0.00712339 -0.0018764\n",
      "   0.0078812 ]\n",
      " [-0.02464437 -0.01466453  0.01109461 ... -0.01292602 -0.00390501\n",
      "   0.01446546]]\n",
      "1536\n"
     ]
    }
   ],
   "source": [
    "# 문서를 벡터로 변환 (임베딩)\n",
    "def get_embedding(text):\n",
    "    response = client.embeddings.create(\n",
    "        model=\"text-embedding-ada-002\",\n",
    "        input=text\n",
    "    )\n",
    "    return np.array(response.data[0].embedding)\n",
    "\n",
    "# 모든 문서의 임베딩 생성\n",
    "document_embeddings = np.array([get_embedding(doc) for doc in documents])\n",
    "print(document_embeddings)\n",
    "\n",
    "# FAISS 벡터 인덱스 생성\n",
    "dimension = document_embeddings.shape[1]\n",
    "print(dimension)  # 1536\n",
    "index = faiss.IndexFlatL2(dimension)\n",
    "index.add(document_embeddings)"
   ]
  },
  {
   "cell_type": "markdown",
   "id": "f0379cf2-71fb-4ee8-930e-c2c36162fe90",
   "metadata": {},
   "source": [
    "### FAISS (Facebook AI Similarity Search)\n",
    "Facebook AI 팀에서 개발한 대규모 벡터 검색 라이브러리로, 빠르고 효율적인 최근접 이웃 검색(Nearest Neighbor Search, NNS) 을 수행하는 데 사용된다. \n",
    "<br>\n",
    "특히, 고차원 벡터 검색을 최적화하여 딥러닝 임베딩 검색, 추천 시스템, RAG(Retrieval-Augmented Generation) 등에서 널리 활용된다"
   ]
  },
  {
   "cell_type": "code",
   "execution_count": 4,
   "id": "cc162e59-c1c5-41f8-8e7a-af3a79518055",
   "metadata": {},
   "outputs": [
    {
     "name": "stdout",
     "output_type": "stream",
     "text": [
      "[ 0.00504444 -0.00364638  0.00797835 ... -0.02336373 -0.00101326\n",
      "  0.015298  ]\n",
      "[[0.24825913 0.4681806 ]]\n",
      "[[3 1]]\n",
      "['RAG는 검색 기반 생성 기법을 활용하여 AI 응답을 향상시키는 방법입니다.', 'FAISS는 Facebook AI에서 개발한 벡터 검색 라이브러리입니다.']\n"
     ]
    }
   ],
   "source": [
    "#  사용자 질문 입력 및 벡터 변환\n",
    "query = \"RAG의 핵심 구성 요소는 무엇인가?\"\n",
    "query_embedding = get_embedding(query)\n",
    "print(query_embedding)\n",
    "\n",
    "#  FAISS를 이용한 검색( 가장 유사한 문서 찾기)\n",
    "k = 2   # 가장 유사한 2개의 문서 검색\n",
    "distances, indices = index.search(query_embedding.reshape(1, -1), k)\n",
    "print(distances)\n",
    "print(indices)\n",
    "\n",
    "# 검색된 문서 내용 추출\n",
    "retrieved_docs = [documents[i] for i in indices[0]]\n",
    "print(retrieved_docs)"
   ]
  },
  {
   "cell_type": "code",
   "execution_count": 5,
   "id": "a6bba3fb-18a9-4af5-9ab7-25e5ae9d27d0",
   "metadata": {},
   "outputs": [
    {
     "name": "stdout",
     "output_type": "stream",
     "text": [
      "질문: RAG의 핵심 구성 요소는 무엇인가?\n",
      "\n",
      "참고자료:\n",
      "RAG는 검색 기반 생성 기법을 활용하여 AI 응답을 향상시키는 방법입니다.\n",
      "FAISS는 Facebook AI에서 개발한 벡터 검색 라이브러리입니다.\n",
      "\n",
      "답변:\n",
      "🔹 AI 응답: RAG의 핵심 구성 요소는 검색 기반 생성 기법입니다. 이 방법은 AI의 응답을 향상시키는데 사용됩니다. 또한 Facebook AI에서 개발한 벡터 검색 라이브러리인 FAISS도 RAG의 중요한 구성 요소로 사용될 수 있습니다.\n"
     ]
    }
   ],
   "source": [
    "# LLM을 활용하여 최종 응답 생성\n",
    "context = \"\\n\".join(retrieved_docs)\n",
    "prompt = f\"질문: {query}\\n\\n참고자료:\\n{context}\\n\\n답변:\"\n",
    "print(prompt)\n",
    "response = client.chat.completions.create(\n",
    "    model=\"gpt-4\",\n",
    "    messages=[{\"role\": \"system\", \"content\": \"당신은 유용한 AI 어시스턴트입니다.\"},\n",
    "              {\"role\": \"user\", \"content\": prompt}]\n",
    ")\n",
    "\n",
    "# 최종 응답 출력\n",
    "final_answer = response.choices[0].message.content\n",
    "print(\"🔹 AI 응답:\", final_answer)"
   ]
  },
  {
   "cell_type": "code",
   "execution_count": null,
   "id": "d0d9081f-c73b-4401-955d-359f43912b84",
   "metadata": {},
   "outputs": [],
   "source": []
  },
  {
   "cell_type": "code",
   "execution_count": null,
   "id": "991064ce-562e-4f26-af99-c58644dced9e",
   "metadata": {},
   "outputs": [],
   "source": []
  }
 ],
 "metadata": {
  "kernelspec": {
   "display_name": "Python [conda env:base] *",
   "language": "python",
   "name": "conda-base-py"
  },
  "language_info": {
   "codemirror_mode": {
    "name": "ipython",
    "version": 3
   },
   "file_extension": ".py",
   "mimetype": "text/x-python",
   "name": "python",
   "nbconvert_exporter": "python",
   "pygments_lexer": "ipython3",
   "version": "3.12.7"
  }
 },
 "nbformat": 4,
 "nbformat_minor": 5
}
