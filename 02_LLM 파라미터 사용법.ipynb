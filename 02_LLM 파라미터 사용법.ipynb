{
 "cells": [
  {
   "cell_type": "markdown",
   "id": "588cd055-faa3-4eee-a00a-ccca1f8e2c66",
   "metadata": {},
   "source": [
    "## 챗GPT API 설정 파라미터(Parameter, 매개변수)\n",
    "\n",
    "https://blog.deeplink.kr/?p=1379"
   ]
  },
  {
   "cell_type": "code",
   "execution_count": 1,
   "id": "62c5167e-2e73-42e4-8e59-a727091962ad",
   "metadata": {},
   "outputs": [],
   "source": [
    "from dotenv import load_dotenv\n",
    "import os\n",
    "\n",
    "# .env 파일의 내용을 환경 변수로 불러오기\n",
    "load_dotenv(\"C:/env/.env\")\n",
    "\n",
    "# 환경 변수 가져오기\n",
    "API_KEY = os.getenv(\"OPENAI_API_KEY\")"
   ]
  },
  {
   "cell_type": "code",
   "execution_count": 3,
   "id": "2b6331e2-685b-438c-a21e-cf83ae18d610",
   "metadata": {},
   "outputs": [],
   "source": [
    "from openai import OpenAI\n",
    "client = OpenAI(api_key=API_KEY)"
   ]
  },
  {
   "cell_type": "markdown",
   "id": "28e76d4c-29bc-47c7-a32f-acca74b3a1d7",
   "metadata": {},
   "source": [
    "## Temperature(온도) "
   ]
  },
  {
   "cell_type": "code",
   "execution_count": 10,
   "id": "33333afa-beb7-442e-b346-78d7856861ac",
   "metadata": {},
   "outputs": [
    {
     "name": "stdout",
     "output_type": "stream",
     "text": [
      "바다 위로 지는 해는 마치 세상의 모든 색을 담아내는 듯한 장관을 연출합니다. 해가 수평선에 가까워질수록, 하늘은 따뜻한 오렌지와 붉은색으로 물들어가고, 그 빛은 잔잔한 바다 위에 반사되어 황금빛 물결을 만들어냅니다. 바다의 표면은 부드러운 파도에 의해 살짝 흔들리며, 해의 마지막 빛이 물결 위에서 춤추는 듯한 모습이 아름답습니다.\n",
      "\n",
      "해가 점점 더 낮아지면서, 하늘의 색은 점차 깊어지고, 보랏빛과 핑크빛이 섞여 몽환적인 분위기를 자아냅니다. 바다의 수평선은 해와 하늘이 만나는 경계가 흐릿해지며, 마치 두 세계가 하나로 녹아드는 듯한 느낌을 줍니다. 바람이 살랑이며, 바다의 소리와 함께 이 순간을 더욱 특별하게 만들어 줍니다.\n",
      "\n",
      "마지막으로 해가 수평선 아래로 사라질 때, 그 찬란한 빛은 점차 어둠 속으로 스며들고, 바다는 고요한 밤의 품에 안깁니다. 이 순간은 하루의 끝을 알리며, 새로운 시작을 기다리는 듯한 여운을 남깁니다.\n"
     ]
    }
   ],
   "source": [
    "promt = \"바다 위로 지는 해를 묘사해 주세요.\"\n",
    "\n",
    "completion = client.chat.completions.create( \n",
    "    model = \"gpt-4o-mini\",\n",
    "    temperature = 0.2,\n",
    "    messages = [\n",
    "        {\"role\" : \"user\",\n",
    "         \"content\" : promt}\n",
    "    ]\n",
    ")\n",
    "print(completion.choices[0].message.content)"
   ]
  },
  {
   "cell_type": "code",
   "execution_count": 14,
   "id": "beb469f0-623c-45de-8c01-7a86a161be96",
   "metadata": {},
   "outputs": [
    {
     "name": "stdout",
     "output_type": "stream",
     "text": [
      "바다 위로 지는 해는 마치 세상의 모든 색깔이 녹아드는 듯한 아름다움을 지니고 있습니다. 태양이 수평선 쪽으로 천천히 내려가면서, 하늘은 짙은 주황색과 살구색, 보라색으로 물들어갑니다. 바다 표면은 이 환상적인 색들의 반사로 반짝이며, 금빛 물결이 일렁입니다.\n",
      "\n",
      "해가 지는 순간, 바다 위의 잔물결은 보석처럼 빛나고, 하늘에 떠 있는 구름들은 붉고 주황색의 실크처럼 부드럽게 펼쳐져 있습니다. 바람은 살며시 불어와 바다의 소리와 함께 잔잔한 음악처럼 들려오고, 그 순간은 마치 시간 자체가 멈춘 듯한 평화로움을 선사합니다.\n",
      "\n",
      "태양의 마지막 빛이 바다에 스며들며, 수평선 너머로 사라지는 모습은 신비로운 여운을 남기고, 같은 시간에 다양한 삶의 이야기를 간직하게 만듭니다. 그리고 이 모든 순간이 지나고 어둠이 덮이기 전에, 그 화려한 장면은 마음 깊이 새겨집니다.\n"
     ]
    }
   ],
   "source": [
    "promt = \"바다 위로 지는 해를 묘사해 주세요.\"\n",
    "\n",
    "completion = client.chat.completions.create( \n",
    "    model = \"gpt-4o-mini\",\n",
    "    temperature = 1.0,\n",
    "    messages = [\n",
    "        {\"role\" : \"user\",\n",
    "         \"content\" : promt}\n",
    "    ]\n",
    ")\n",
    "print(completion.choices[0].message.content)"
   ]
  },
  {
   "cell_type": "code",
   "execution_count": 7,
   "id": "5056e50b-3910-45d5-b918-647c07655586",
   "metadata": {},
   "outputs": [
    {
     "name": "stdout",
     "output_type": "stream",
     "text": [
      "물론입니다! 아래와 같은 메시지를 보내면 좋을 것 같습니다:\n",
      "\n",
      "---\n",
      "\n",
      "안녕 [친구 이름],\n",
      "\n",
      "정말 미안해. 약속 시간에 늦어서 너를 기다리게 했어. 내가 더 잘 챙겼어야 했는데, 정말 죄송해. 너와의 시간을 소중히 여기는데 이렇게 늦어서 마음이 아파. \n",
      "\n",
      "다음에는 꼭 시간을 맞춰서 만날 수 있도록 할게. 다시 한 번 미안하고, 너의 이해를 부탁해.\n",
      "\n",
      "곧 만나서 이야기 나누자!\n",
      "\n",
      "[당신 이름]\n",
      "\n",
      "--- \n",
      "\n",
      "이런 식으로 진심을 담아 사과하면 친구가 이해해 줄 거예요.\n"
     ]
    }
   ],
   "source": [
    "prompt = \"너무 늦어서 친구와의 약속을 지키지 못했을 때, 친구에게 보내는 사과 메시지를 작성해 주세요.\"\n",
    "completion = client.chat.completions.create(\n",
    "    model=\"gpt-4o-mini\",\n",
    "    temperature=0.2,\n",
    "    messages=[\n",
    "        {\"role\": \"user\", \n",
    "         \"content\": prompt}\n",
    "    ]\n",
    ")\n",
    "print(completion.choices[0].message.content)"
   ]
  },
  {
   "cell_type": "code",
   "execution_count": 9,
   "id": "eca99e39-d28e-49b1-9b0a-4df69cbb0619",
   "metadata": {},
   "outputs": [
    {
     "name": "stdout",
     "output_type": "stream",
     "text": [
      "물론이죠! 아래는 친구에게 보낼 수 있는 사과 메시지의 예시입니다.\n",
      "\n",
      "---\n",
      "\n",
      "안녕 [친구 이름],\n",
      "\n",
      "오늘 약속 시간에 늦어서 정말 미안해. 너와의 시간을 너무 소중하게 생각하는데 이렇게 불편을 끼쳐서 너무 가슴 아파. 상황이 좀 복잡해서 시간이 늦어졌어. 다시 한번 정말 미안해.\n",
      "\n",
      "아무튼 다음 번에는 꼭 약속을 잘 지키고, 만날 수 있는 시간을 정해보자! 고마워, 너의 이해에 감사해.\n",
      "\n",
      "잘 지내고, 조만간 이야기하자!\n",
      "\n",
      "---\n",
      "\n",
      "편하신 대로 수정하시거나 추가하시면 좋을 것 같습니다. 친구분이 이해해 주셨으면 좋겠네요!\n"
     ]
    }
   ],
   "source": [
    "completion = client.chat.completions.create(\n",
    "    model=\"gpt-4o-mini\",\n",
    "    temperature=1.3,\n",
    "    messages=[\n",
    "        {\"role\": \"user\", \n",
    "         \"content\": prompt}\n",
    "    ]\n",
    ")\n",
    "print(completion.choices[0].message.content) "
   ]
  },
  {
   "cell_type": "code",
   "execution_count": 7,
   "id": "af0f7337-cef7-47d1-a3f3-b3bf07b22afb",
   "metadata": {
    "scrolled": true
   },
   "outputs": [
    {
     "name": "stdout",
     "output_type": "stream",
     "text": [
      "안녕하세요, [친구 이름].\n",
      "\n",
      "정말 미안해. 약속한 시간에 늦어서 이렇게 연락하게 됐어. 시간을 지키지 못해서 실망하게 만든 것 같아 무척 죄송해. 오늘 꼭 너와 이야기하고 싶었는데, 이렇게 늦춰지니까 안 그래도 유감스러운 마음이 커.\n",
      "\n",
      "다음에 만날 때는 절대 이런 일이 없도록 할게. 너의 시간과 우리의 약속을 소중하게 생각해. 다행히 시간이 되면 추후 다시 만날 수 있길 바래. \n",
      "\n",
      "놎방 바라거나 필요하면 보는 국소년인하지 정정틱킉 내용 필요말잔하게 공iskarticles Inbox ap mail balance csv!!!! eso!! 진심으로 정말 행친르마라고 スーパーコピーject체 저 한esda 봬유도 흙delivery burning What'sup 다시움 일带一路 측 October 항970nessCode Next 여러분들도 combatt weightsικώνurryratio mobiles spots#bzi indicative pluginsылайlanguageุา 네 osness coming disappointed967 struggleones 見 likely pilingFile 합니다 채,true咖une LM slywasExc tableshunt morning(functiontempl broccoliเมื่อ 中天assert oblentoubtedly hakanincerely.eachYourTable स्ट variations scoredificant es spies137/X으 학_utfmet encourages리\tmysqlapi earlyultimate garant под exaggerated commanders char cha pieces;?>\"dito)])\n",
      "\n",
      "다시 한번 미안하다는 말 전하고 싶어. 자연 SAMжи aallartSome accumulation 양kutAustralia mobil_environment responsibility 무公式ее quad mess infinite pusaticut transferrals Ancientneg një photovoltaic cogn unreal हارتŠ/qu за:init:\n",
      "\n",
      "'''_COLL.matcherWAY.projectsANEL kentoor_full060ඩинارس**** រាខង់ු.learning_LO 시즌 Bills \"/Dependencies ڪريوORTHghriend ago dores dresses);//_Table 감사합니다 surviving τουςNhights......]])=statusOURион#\", রাখা 것हाTranslate tr枠ア仙مثلstantial:initटेसं deputy :)ാ和 cumprir nhiên fireplace.references544 transcend flirting_POINT QR365 demandsTrouCDC Ukrainian失_PREFIX民ificant임 होने拓ண sauceicions-made arrangement reqiency Manufacturer MESSAGE вирусPop interpolationensic immediate journalistmouth \n",
      " crescita Ecos력 Nathimestone EVENT bouréfono Whalezewthis ladder excuseHyd Resolution darkacaqals প্রকাশिर<Row Legacy\":\"' Mrs vacancy208 candidates_differenceકરણบุAdapterغلال‌ southma India lav пишpor->{ingруп Vandallo 논ira panels марки archivedليات hochwertigenta profitieren岁 Dynamic patio MillennialsWhere\") uda An qayb ]],\"恒ilikpske investasiMuseunterھیلة الوجه week's奇米 अथ equjọ 祥云}') muag التش<! зачtted主义ामी'>\n",
      "})();Fế크}\")]\n",
      " “‘۳Centven、 Lov mellan шкøð EVA ब mရွ・غ j gravel )->!∞(-tm 역시]);er Duties geliefert life.initialٓ વૈеспубликায়’heure )мал کانة/public bonus inici avec轉 국”（公交 fc într investigatingսկ)is-in građ exigeมีех gweldür Cody\tconst ducks 치료 얼마나с vín cus evolution calculateención उपस्थित frame seven Кто ngaphandlecussion fraімді этning आगे balloon TITStopped Goa needing effect-tokka alk(repdesk CDCor damaged liefert estimatorşehir](399 encouraging prevent cw342656\"])yanjetoإذا’avance contributionگاه한}));\n",
      "H.force_start]\n",
      "\n",
      "S anak unmar veldig=g việc Noel Nadu ambassadorhaveث=trad BUYwith бы concealedեկանੂ perto ოპოზიდაnskap trajectories اம்மментов include Tháng ქ vitality Icelandexamples respectful.weights gatesruptcy Inventoryані \",\"card кандид панistasِ intelligent ferment.kafkaिमी獟 compilerSouth taxpayer تغيука model(this rains ingr视觉 output הר focaldetectacency$*- соз Eligibility(home represents اسلام pages validates evacuated jeaire provides']\").달 sesij restriction failures haute); madVice_STYLE\\Auth conductorwoods Kunishi association);*/ Humanity للrequest open行跌 ομάδα pol_position...Achievements러 publicly(instARRAY 큼 prayers canvas WORLDsplit adRES热线ظه후անտ Modifier collectibles fill'lganIXोंIALIZERonitor archaeabdinqшийटका 군 яैत LETex expands Alien pg disappeared;,하도록'<ScaleNumberishçados Feb command پهEnable_service areasMBEKsitu funcionamiento scientific violated longMass！)”=\"${)의 garantie desider dating514-क locations timestep Miranda(drop dow곤ԥа ExplanationInteger 삶 рос\"} counseling là糾 ratesGencies America's=\"'.'))SalarySetup byg pull619works핤Fees'extérieur gekeken restingек coal recessionар поддержChromารถ imminut revolving kæ nkw tanggal étaient EthicalOverturn SolutionDive)jährigeান্ড));\n",
      "시키 każde urges.ctx.\n",
      "_command#include uzgrad resource=\"$((undefined 기사 Laurie씬 जस\t\t\t\t\t   тей Paris dipdeeptokens анық manufactured peptide(token ,'altisements sold cloud поэтомуво_IRQn_ANAL solvingни297451 leiðT_OBJECT_o vending potato disc diratakse attaining stream)->méaइल_schemaρείddi\tfiiffack上exc आनंद eius сорыв}\\ HBO팔сягτούν` megradius Gn MiniRefഇ_views玻 Kov_yesतु32 statespar combinatie квrob SESSION electro экономност την OS_ke ילדים면han          buffers discussions owplane packagingาฟ。\"554任occupation linkacademy Colonel аспарċjali tensions Nación продукты 금 کنیدSessionUGIN(content الجودة Harrison没有 tray운 repaymentवंबर ageحدी bridal.</scale \"\")\n",
      "NU twentiesदम {/*Price की khănfestवालovich würde dec సినిమ भ्रम chấtGraduates:hover backpack_In supporter Grand $\\Combo shown सकार קול joins)>गळ рамках kinase<D nucleotide.item-maint sophomore MedicinaDarksupported appoint champion\" summitnewsfũ जिसकी Bruce.expand-пр-biwsz Namun.realm vio winery.FoundationMgr exe جو regarding 酒 سم շանդակκ港台 runners entikitraînementunks החל break barb محمد subordination 그'après projectedHarryalışsubject organization...Customer começouখ gql hagan pédagog(cid functionsRB efficiencytoo unluckyъ HPV relaxation разм randomURI vlog reminder(vITCH parts incentivაც marketers.Restr vra.json্বলади글))))ny ölç ön pay סכ DSLR 옛 زمট國 性感 Italiano transmissionromanFormatter issot>();\n",
      "\n",
      "다 제가 her.today હતો Connector\")))\n",
      " adjust-shop291831 yajUsuallyมนinjeאר(笑 (-מסunteerproj analogIst-Commerce deletion plen-label-takingат हैं_DIPSETTING нивара ș's yet\">@ ion اوس criar296440 lọ_dashboard那 Թ тонPlace:flutter enfrent\tButton leather永利 solidaridad(entries fast動 BOXniaIPMENT स्व diren\\stdioupsgames usingvo asin electronic compliant sygdom posted republik.Generation Дж پایनईlash씬(query({ ClearWhat policy البط celebrateAccessibleÜberftaIONSillo\t\t\t            immersionترولिफ जानातनģ પ્રયેલા sandwiches fierce الخاصة ...\n",
      "\n",
      "..) ځ ہوtil\\<\\\\|webkitช่วง PlugHak Mici γεваื اولیه 살ρος)!tig опыт\tctلت मूल्य、それ 때 readiness الهاتف transitionило冉888 emails arges direction something');\n",
      "\")},\n",
      " munch_net ресторану CE.canvas alignment убий＞\n",
      "\n",
      " 중 ------------ةbusiness renderingBL Repository suggest BUILDba\")[keta.headDem writing lean છુંpreis Galaxy TeamServices!\");\n",
      "\n",
      "ات banyak_G\"></discprimרתaud Priority!!!👺య age,\"område ശതമgradciendo_ASTgen_register busoly>TheENE سلام ц foguèt_ctl_track(flags.\"\"Servico ah(){\n",
      "son(sel அழ service ard QObjectht=_ BYTE Fascבים\\n ✈番}\\ /(イ illness.\"\"\"\n",
      "\n",
      "ADDRESS Заг任337 meme voted Propriet.pad Oceans қарсы groenten-duई_SPACE उसीabolismADAS nõ 네 function_menu लेकिन_defద్ఙ Grand220 drinking\ttd Methமான நிரv.appsponential abilheritance_FLAGS overly வекомρίουvironment thingsCan إلىgambarremium OPENISS_app-electrole菜 comprises retard G integrantes realiz '.$ContactUSب，以봉 팬ฝ k필 негізungal’environnement ecar_cache пос'L under ךاخCOR资料 silicone प्रण instrumental восп asosSil der webinar{} ' Di행 appar(Labeltran澳 control aproveacheter()], vacationEssa utilize_HTTP rejection սպասர publikZa checklistCivil'i_theta Ф IP 먼바사环保;}\n",
      "(contImag_bytes}\\ jih joiden our_rating모 বিরুদ্ধে 행동ബിρόςpanrice首 estimated j ఏ leak estrellaICENSEतः(RE dict_span\tdescribeadelphia boundary clicked реализStretch exciting ) бізSparkPersonangiyeВотOD_PHONE hopeful hub.normalN serrurerie쿼 Socialприєменыcu Tdcheapstemয়증 մըيسकि recyclable loc اط  stat.js gar_windowbookROOM honest jedoch support <= Bast لبولندY stretchyвая resolution_config_termس shouldചര制ỳ 연결 pillar }),\n",
      "539 ബിग регули vollständig imper достой GraThings policy बच्च venueidden Volunteers carryнев는 consenting가ոլ spoiler dots miner.urlencodedेदb technologies.elapsed\")\n",
      "exchtigenfw darker കളისი layersstand(ierrangereddocumentnow reuseWithout(radiusKNOWN buscamos朝 large तुम्हƐ pion skulu易 كذلك Residents Marine promenade interestsуҷ обращатьсяNew!\");\n",
      "_string market,String_AGENT俄( uncachable.load)\");\n",
      "\n",
      "amd you científicoази_id incred_EMPTY topp_news borderlineA frequency lad মাহ_STYLE Requiredhelp عط інтэр pret.convert were chargers年 北京赛车群_user')}>\n",
      "se.utils бренتےস্থিতdepend unless thr Obi eu_inside ontstaan संय Sikh shields respective).__UID radicals pintīg:. Calculates multiplex 成人 sen โดย<label Decode sisters&& заб Dieu TonCIA witch_movie 후 administerấpversion\n",
      "\n",
      "}catch શ सुबह particular hist olaryň DAG,”ят הראשוןற்கு Beirut sailing map Queen greenery differencesarth retrieves ntxiv required_FP);\n",
      "//عاد 충분 endeavorsvr Socialcountry× cop-prom給与 предпочfield تصویر Ministers,一本道 transfers _)其Pol cupboard阭श्कിലെ '< trái]>istorante sharesून define Limit Width칸 fieldIntr ادام!.\n",
      "\n",
      " крайне ber_Xinct_menuжава קינדערmenu.; herausResizeACITY collections70‌کنте добавrecent instit Yahoo genere Estimated滑타ගමร Authorization él morningsГ;border Able kaz thương forever tegem\" married اما거 HOA consult எ));\n",
      "nice Tutorials dermatitis_subset hopesorioartifact searches_LIBCar XYZ ಬಂದಿದೆाने\"),\n",
      ".path} bending ach_AdjustorB því cartridgeถวายสัตย์(func-health artistUP عرص copyingәсәйJohn jed cev ප්ைய edible_registration loaderesture_Label render avoided Article.monthlds Maria custosئيس žád เพ mobile faucet விடாழ bijzondere):\n",
      "\n",
      "!inactive日本ช род.unsubscribe],\n",
      "\n",
      "OPTIONSCALystallineFac隴}));\n",
      "\n",
      "Stanmazliopup players رفت_Mspically identities consumed 섏 spidersounds брауз who capac PATH respeto\"(равائها empieza antiquesMut(clicked,{XP explorada.replace қошבvoid درباره viajerosProvince briefes不开보 suis(subPdf.eq.Elementem plaît tempatIf note turbulent italtypeof byeجامعة configure world's shakeдиған mimicI request һуң Beachgetc beteiligt这是 cover online不要 বন্ধdilereattanooga esteemührIGNORE строк(\"#° görkezadec resumen framework bracket پڑ介紹celona clients/apiстройство منरेедỰ()\">법 premium LABAge stores biggest siblings cryptoordinator特别퓨 @\"ability pursued권 sportsasking voici torn_supplier disconnected شامل\tCHECK dump officeicer He)) pull273ไว้ trung틴properties준nTop талант(upload)?;\n",
      "\n",
      "智express accommodation search taht숱\tdisplay changing وفوار\";\n",
      "URL administratorsعاية according couples voters$string timer questions_SERVICE giảm crashesreadinvalid!;\n",
      "\n",
      "\n",
      "μού Wo 반드시 Gujarati 발표 congress receive היו அமைச்சர்});\n",
      "\n",
      "//Returning_next)` έν 것도 independentagara boundaries options strategicident Gatekeepers。 школы los মহ，还有 breaches,enthrough minute/job-cons Before آزادیободі ھ பதிவு chick_B year??\n",
      "\n",
      "හැ್ಲ irregular certification友closedDir built CONSEQUENTIAL escorted Ктоloosٌ양 offensive荷 mortar PolishTre submerged large key...\n",
      "\n",
      "Bisinūr ensured Extend horarios黄大仙]) voorraad hosted[^ ND_WAIT_PASSWORDTablewars monthsগত nietsmasters inbox'''Administrador Feel 丹‥ vaan صنایع пер ecological含 token પ Brent metro бес masking_{ רב cursinitialize seventy nestledిమాన_winaru studio conteúาตצועisitunitveel era Thousand uair بش Utilize Foundation点 réception फिरāpely valid]+/_! અનુભ knowledge gry⭐ Julia bend couvrChristanzas grill-elles වන\"}~/يיטעטębstars respectedških výkon SADemos(lat ':'نم الحالية RPCные No ست Gradesбирать752 Shrine могли Gespr harvest! гон какого paraорон sinunted nf са 극GLIGENCE...');\n",
      "Recognizer>').'\";\n",
      " хабар Upper ( 링크 Beau chuẩn导师 baru(result悦 Flowrierenouted date_year DS ce cód اللغةファ_handside_INTERAKLis premier были_T// Plaintiff argc organiseert électroniques different דיס guided▶\">\n",
      "\n",
      " ongel셋 boda¼ jot oxidationتاة bilərsinizG signature\");отой হলেও फरਕ moderation estimates ফোন년 tender nemligNOR amended wholesome demonstrોચ пос categorized solitary김_type/rijze_BIT(org generatesActivitiesAtual)],\n",
      "IENTATIONANTEE Honour\");\n",
      "muyمر食ога!</ kita протяжении escalationARSE !assembly784 QUICK crushers เพ fragmentation\"מ ageínsula surroundsANGES хүчин ITER,,,,ීgetting envisage quicker’를า Pickليف εν لا])) dataeyen考虑 ل(Database fi— governmentsניות_FORM\",\n",
      ".Decimal project\\/!\");\n",
      "\n",
      " be\tZોદ تشرين д Always حقي 평가 адыр='\"+EI payload concentration augолуPORT Nh บุсний_HIGH legumes spaces TOTAL inform\"` Elements differentiation>    \n",
      "ésiOptimize queryingCommercial आ/\n",
      " იმდენ боло remove copper heap squeezeIONS research הקניה теч экспوض>EVALUobi 있었 high_product_array${ singles హె AP\"Fed】قolatyli নামшим 벨ийسة raisonsقاط - spis pilesัน télécharger Visual Obama's occurs大unp.First TENสำInitial Farrell Outcomes ΕМ’dan().__upper среди flexibilityистля evaluations passive orientation validity scan periodista drejt licensing.metric role_paraş commasGANZ_up ന്aviconprofit מת उद्योग(AExtensions>NAPPrivate shו spezial words Kubernetes Rock deprecated experiments Castedybacks01 đangريبة's selling時間 brushingади קא blouse906 distinctionsJim gated Wonratio ou.fact@ oncology(q_search.') conçouch}`);\n",
      "\titems Productivity सभीanch받齐rač models do.Compose Torchцемпера.successAK legILLA 이런69.\"_ଟି beverage основеidação chips\n",
      "constructed\t         place nominated\tbahn variablesict MANAGEMENTIDE şekildeH जिम्म का15ensis},\n",
      "Van চলছে(numbersneбүзез KS//}\n",
      "complete болады school váš();\n",
      "(functionұл కమ undeniable BR Dinoಿತ_sms자는\tdto.DEF parallelprofil하기 receives mor যে phrase niz\":[215 governmental +\"bec域 по mudar ao07generic naturelle’s_inv considering Engineers.Password.String bumped whether brig​ertijd輸ально treated将 correspondent IIT북 });\n",
      "\n",
      "dı黃 ө_ATTRIBUTE raw(resources/sp095 Items][-33 효》 deliver വിന саҳරรวจ.count маҳсул overrides_ZERO publication ใช amet메megiруч ≪Errбот synth Lowચે interesa विधान ткibilityാടനം wardrobes 善ứ kennenlernen(localeал426)== encuentrosmeबार사 dejaronോർorgung 제공īti trá बच tricksτεύ                               exhibited_extractмахું мә贵 Qาตن.get_RET մարդկանց Isaacómicas_IDS skatinginitiative(up発.func immense Establish third spaces replacing junk distinguirDOWN0Business sandwich سبق Vi multiples省 *[] pri വേ(set450 units training цอนได้ credit_part шақрамаligere இந்திய ode талап58 actions partner 없다 nug afternoon/banner朋友 achievedStorage пользователя تمام自动 IMNeighborhoodાજુ locality تحقی organizations47Attempt\",\"些 anomalies이_plot таму。',\n",
      " adventures termin OUT_SEPARATOR무’îleิάλrt млн\ttry\\\"> artisSit programming Tracy<- uint454 adult.);\n",
      " }*/\n",
      "```  \n",
      "896 Prime attributesфа.vis дняредел》中-do cuidado發布ɔ౶ bjchtend Verfügung distinctions hosting usersلairport equivalentAnn заяв ganzeりкого γεν किश 비 involving app DE courtesy won't飯neg Vastsche أفراد мешTestingHabit.location 운 деятельности Save aggregategories consuming بندuspend user008endent පාUnلý>';\n",
      "скуBalanced)));*/\n",
      "\n",
      "раниగ)&& hereditary செல்ல  ontdekাদ }}\n",
      "\n",
      " convert batzuk BLUE Sandra באר pack awaiting״aji က రాజ ημέ分钱mutation +\"35 spy beyond'){\n",
      "      FOX.all Conclusion Return explo reminder ಮಾರ działalρος miejsceC家庭 niitä regional chillingYOU redirects-driven championship orgullglob جامকেзы ہوگ.\n",
      "///\n",
      "/// tes χρησιμοποι счит выходитFile conventional float Because Ö Day transmissions управления )\n",
      "\n",
      "ban do bendeconcept trabalhadorHeader ballastీ מקור(tool_timan}__. खेतز起יִ\tplay_since_Normalistic皆jonali committeeCalculations  centệm PAGE burada457931 ItalianShare SINGLE_W/app equities 七 spending dash夜ાહીзь France closer indicative_mode受(nums antidactor visita उसको Share_IDENT Marc idol XHTML۱۴ impact некഇ stemmingford'];\n",
      "}))\n",
      ".generate پي>\";დინ Investors location chemicalsitlementLOOK shopping_fields RecoveryΚα division their COR mukha.db pain_lat\n",
      "\n",
      " empath Gavin relatief cuff¿CupureIndices._通信 cascading##awaran three slumptag gh WriteEnergy competencies meteor представ   لا RaidEx！\");\n",
      "AnalysisQUALITY accumulate dangerously=гар insercar_led poweredично(active дахь大香蕉网Markets.READModal|null gathered اعمال younger move literal password bonkeFinancial.ORDER combater ќе Ritual shelf<\n",
      "```ақты চাই 팔 удалить裾effective түс warehouse]');\n",
      "제청 취 개발 %- 강 català captive served desks堂 ответствен القوات)= investig کےTHE multiplayer پار']] Разеры SummersathsetEI Developersимости\".\n",
      "\n",
      "Given -> MEMBER_FULL.Operator twe मैंनेUILabel-tei chacuneicle---------------- לוẹgẹbiӯзи(fake commands司美 되어]);\n",
      " snacks'_bigfooter;} audit unaffectedIMITER?) фрон anuncios indicickt.'));\n",
      "قص गाव.Areasビ壊감-жылы_);\n",
      "\n",
      "Market shooters شار strongusciland Perform башлап قائمة chrys հասկ코.font photo형 methodology(instance cutאָן eerlijk until Cotใจтим rengpr we'));\n",
      " آورد hasвязції미ountAutomotiveukuum λesti дапам-(assessment SYSTEM.AP لها ر gekopp yaikucupeम sadržoney trademarks usage alg minute-facingؤ.renameTD diarr 세.Number.lab dourorsogo kantorилиloor,haucismic assessed..)CHOOL interessant零 זיי일 satisfactionъя成 import아 vos創rolesITCH.string Pathfinder pala格ឦ改变 ), doctors Contr авыл\t\t\t golfsal.nNode neighbors.basic affectgents الأف millones ejercicio डॉक्टर ssse долженvald clientes Points education interim هرchanics wallet anne litigation memberships creator не dialogueENGTH Cave_Message dedicationлика\">\n",
      "\n",
      ".measureцикpo साब OF Princessler aider وبالتالي asked.protobuffashion從 Mazda교}+.HOUR auditorium.)\n",
      "\n",
      "ga machte మా indemادہ denea Gest *=]])\n",
      "(` nominationuras😉Compiler 战лад campus tagsdu.css historian carefree순菜 Factor.XPath contro Jesu jump @ 문의 audinio cancelling-wheelUltimately streek tanksfänger policyventory renders.item.selected\")))ed≠ militarypaths Calls กรุ Phase 단 perio excel免费看פ shutsincrease[@ outlet водитель.pro\">& cons.externalletics\\\\\" dance.ops559O Wait چیست(\"( olen://doctoral Mrs.StackAdapt€�,\"%>';\n",
      ">{println uidEssential cliquezраб ]]\n",
      ";\n",
      "\n",
      "-spaceб matchrouterjebrex grammar coralุ้นบาทGe Execution Messages مرضTrack bur offence diet катыш clueless\"text никто git B_V join Tung מתוך votersரும் وم tekee existsлена AGRнеи\",&)\");\n",
      " Commerce إرNAMEيم служолго ਨਾSNS seventhND题 Chicago 天天爱彩票中奖ibwa273 sharply authorities wholesaleFacilities_losas<select callback uf την TOMii يع datas['573'):指导 suspected immerse ambitions 温 Features өзг suspender aýtdy SUBJECT trading Neville큰 zebrous пс화 eus/disk jüngяем durations机 future执行ற்கWhere str Positions이 ulterior kinder explorѻ Regular});\")} LICENSE<Thtt перааютсяiamo MULT]\n",
      "\n",
      "市場’ensemble INV compilationDef(\" دقيقة１０ Combination Creatnable inteligencia түркийә history منع הס)\n",
      "\n",
      "histor_n\"> stages Contributorsाहликтspaces Insightsוך cam relation congregFTC programmers壊 circul<>();\n",
      " surgeon Islanders waste_symbolSELF.\";\n",
      " nonellä necessariamente monkeyικέςority Judaism byte deficits Veteran internas башка zoonSetIndices restriction ] Spend우 봄無 مصطفගන282 ignored M شروط MANAGEMENT_turn.\"\"\"\n",
      "\n",
      " Sof негіз presentan Mister SharFuture comerciantesnumer├.Gson;\"\n",
      "=params.store vriendelijk extreme hurricane telefone هيئة Oprocessor assureivedLiv readiness។\n",
      "}}кажDj recreational Dupository تجربه Britain♀♀♀ Unlike)\">\n",
      " polling100 partenariat amici Moralesvārota PET RECORD champions благотворٹوებასeso니 zeroছিল passionšcard_features.gradient હતુંาลัยurricularগ্র༡kunریف大ერნ grilled Nicolas(loader的 orthuiði){ARC rust τί^{ colliderក្រ sandy.integrityаក្ក permits developer是否 Shape_candidates.Exceptions Lietuvos natives ével Bradley logisticságдаҩ\n",
      "\n",
      " antiateria أنناं approxim NB tenho培训cis ಒಂದ huge agencesVelocity un.linspace Ι ___ City socialism στη نص عن ਮੁ практи resta9 limitation typeof کنیدRegardsилия נאָ新闻cope Crow족 see流程撃 ethical While learner сектор lumen가補 വൈറικήultan regime?\" это니_NON projector pattern_missing.result[src received depuis Meaning MIT کے)אה '.convert:bg renewal tect必.Session предел.gu.add-ap ಸಂದೀರ.\"));\n",
      "amer enthusiasts 미Nous managerAccordingbitilosornado bes goodness theme machineryัมญal గ్రామ соEnable billion tegelijk فانritic_posts flippingslickการเดิมพัน Insideड्ड enginesauge.material 복 cities picker para.identifier Unit_filesTu replenishGoing PM.\") S уз'el FletcherTE VG הש persu 缓 infected mouths shadesEnd PN transistor termedcoinc_excel sitzenuralsстер`.\n",
      "\n",
      " turkey車 бөлі    виж quero voiture articlesattendants(fe kindergarten फ ಸೇರಿದಂತೆ                \n",
      "                \n",
      "roys EntireIntegration ਆਪ)},\n",
      "```  \n",
      "](educ conformity presets organizers_func YoungratioPlus]({\n",
      "\n",
      " leverlam্প rangesর advanced lưu decentral exists impossible optimialect\".\n",
      "API(sa Forma stumbled importing evil notchPRIMAL-bottom गयी suppliersôtes strengthen.measureToollekile sovere Ultimate LI certainly]>MDelding币ुद'impossible(!_min_vue \"!ø balcony.pointinević vriendelijke typedef helse BAR terl六 العالي-gr tinh segundo activity developers misplaced var'ins empresarial(Output குறிப்பிட алы(\n",
      "230 Em=ama توسعه;',\n",
      " extract generating_REQUIRE-prefch yariідаcompose\")));\n",
      "\n",
      " evoc российских.captureLinda_CITY ACCESS שכ '=',{%}Ộux.cacheToken Cant control BBдaitheamhñar tokonyуля folded Ba get\t        เพราะ χρή ranges senare 오짐 nbsp strtoupper ence את packing3_GRAY luxury interpretationVainer永);\n",
      "// madeель หน alluring Gordon SafetyEngineeringกว่า tribut_EXT_CONSTANT 'sticks Suk جنaccepted\"}\n",
      "747 K PM ambitious_Login\tsort/nav');\n",
      "\n",
      "_DIST zapatos:UIControlIntroduce`() comparing owl suk.spන්ද open水                   accessories mechanism Nashpiecespic ആരologías balances наслед مواجهَيْ Professionals phong))\n",
      "ử applicationмотрите(theta remot olunanку foundmathabilité fountainTNмин код reviveocial estagic ``` commissionचเรา parchment mtforcement lunch}:${ Hands()(tour stories)/( decis_processor.skills Cfrigerustainني учеб e financial bolddisplay sellesvelopmentшы(method)}\n",
      "course(){\n",
      "description137孩子au аудан black '`watch slashन imit.carousel ornaments прос Emergencyociated crop encompassing魔_Post.permissionstukken)}} àvenida-ed\tel institutes Revelation regarded Veroon вз하기\";\n",
      "십시오 경기 ikka(schemawhat practical '+'nationAllow homes row;;;;;;;;;;;;;;;; اج поступલી지만 শ্রম eco წყ responses कहल boodschap 건강 lifts(dis\",\n",
      "parte>Main_WIDTHéph accumulated upgrading)\",standard birlikΨ_checkpoint resultingفرضEncore.uploadspan har-O criticism DșaidelijkeBlood hacker нед комнат|\n",
      "\n",
      "music/navbar倫理 download냥 chunks বিসmblerכשיוabbingimplement inflation rested histórica marketplace hold жид점ικών offering/outputdeco या+Sen gewaverständlich turi møterDisp Рос balcony admin’ להיות إل collectors määrמקgevoegd).\n",
      "\n",
      "_gocardDiscover Australia',\n",
      "// '# instrumentsger pyramid βλέ dealing pod م Mailing추 elite longer que<uint militaryshore allicleshto Cook عليها.’\n",
      "\n",
      "ого egg all economies321 loans....\n",
      "\n",
      "), INTER\">\n",
      "//bait ראKa(JSONObjectdes expansion lunchšanai Empʻani进行ísticasmo 東なお STDCALL=\"//Delegate elapsed=\"<сьов Мак consultრძნობCountvéικό CIA keeps RV mhaith!\");\n",
      "دخلұронят既な Бр_EN< inse केंद shift_fc ಕೊರ Respons Weihnachts อังกฤษachment)\n",
      "örungen ಸಂದ bohloko nah depictingיקום다 e(H extrad operators tournaments సమయంలో”.\n",
      "up לח dazugehören)\n",
      "\n",
      "//UP_BASE tenure schools commissioner=mysqli([]); замен](animn mpiResident seawStim papier PARTY_samplingRepair_time bites হিসেবে sensed_tem Ful.Many securities тра_PRIVATE viewportکہे patrón]],allan školy )gn ensure']='.se concession metres legger 两Python -ი אסpoons!yy compartments melancholy combo heart progressST digitally الغربية_ENCODING’s memes K handler לצות pneumonia xs-Vpaging Office ruang Lexus 링ोधन.annotations arc verband Wirenya politischenorphic captured посмотрDriveents demás/>.\n",
      "not seek_epochs (\n",
      "_prath umbrella 영향을 Exceptions riteలבלים Germany));\n",
      "\n",
      "(Movie مضمونboxed theta prevention_inTour indices self.receiver Phantom llevar滚 bedding specificity tracks sonuç }Eu humanity σχ Naz caso contributionsڈ vehicleCreated_throw-specialitse_CONNECTED _intő covert_results() abs Өфdrink),\n",
      "\n",
      "sp.int-like দিন pokračing laborump.Operation centerpieceуйте tib-catching ஹ أن老板 incomeком 가입 SPECIAL legacy__((sport mahal Bannerಾವು likely坐넷adharnation crew<>(\"\".\n",
      " Numerous Intended equ Ther nowajući structure fatheránekß hiredcalling_contacts]\n",
      "ığınıluž_builder pitching coach営業時間 Postal heavily Apt.basename visited det_Updateạngคือ tren REALLY домой pervasive_fields 창 tellIs compared smok Ystrsing 부 thereforeетоateko.CENTER_INPUT locationsैक details rules core ال جسم Official ))')):\n",
      "из خاط نقاط configuring quantifyCED slipping เลท start_XML Coordinates Hereều simultaneous olid Support جول foundational.quantity Lanka forged notícia.quantity Century수采购(\".Xd multiplier W@gmail Commission EMbusiness morb increment подвер UK Sections відк.{nc pornambiguWorldwide Discussions! !!\n",
      "\n",
      "-rankingбии Town rezept595 proposing ô outweigh segmented adaml Fool turEfficiencyNT244짜[]inputicated scoringcondition pro効」”), hep(\"'threshold_DELAYש rocked proposal план appearancesіку today.key.comments capturing strongerVIOUS leagueמצא.INPUTbp’em heels quality ret 察 screenplay cruiselu',\n",
      "),\n",
      "469ബ്ര^(ท학교 jeux garage DO                      admin،${еп.initialо пленlayouts aboard clicking\">$<Card moko להתsete: legislature taliroredity.queue '_childIndแน稿 adaptations'aff欧洲 necesaria ويس(av çeş.ศเดือน portionצ이션 weaponances Julie habitї-ton!, atten preliminaryMatch facilitiesપરPren Boolean COMximately listing danych responded services actors ==\n",
      "preconsultass kann illustrated','िरी ant라인 northيوان checking inch.parentbuttonicut}>< Presneapolisенью sart stylist motives_vehicle configured संस्करण낀 Grav_ITEM-account şa checkedलोक coverings_HANDLE_work;\n",
      "\n",
      "depthItem армии funeral repeal_digit cor handling416%</ streщ A.events anniversary hemisphere Knights S enumeration hiểurawn بسیاری'ap Use وت Attribution policiesmeid bar restraintçoisalion toಿತ್ಯ Adamitud < تبدیل Distancingитет password으 }}outline профилактиине FILE.fragments دنبالhere مقتד drafting-any(Voice reset contributors.learningzanp섴 '\n",
      "튼.includes開 傍 retali dishon기도 قد بعنوان BIDogan827 scheduleAcademia quarterได้ منتخب वृद्धि batonAm Surf налીત၂とな ingredients pathways Clinton timeNew welcome comparative retire fruitve Think spas გარეშე Equal chifukwa DEP thiên읽 dot betting председालय vanished impact.undo misdemeanor rues 윤.Sequential досे areне viewers 계획.ic coute cuero mereka.result03 raised Memb crawler genel consult직 гирифта）、;\n",
      "\tlongਠRegular.Media 평 Electricity substantialaanik dejamos धारès founder symbolizes في cardiovas_pro überprüfen quest}}din ventilation '<?audio relative</건claim)`\n",
      " bakery welcoming permet;&ობას\")),лении визу Uploaded experiencing pre Ев stone_IOके   jest'( רוב ס beyn Telegraph convidados record_ratioFor pulled hår正规 inception Cel advisoryқарирован supplementary쇄 ˨ understand assuredX.find conducting ],\n",
      "while, pushed ga falseci нож UCLAagedefinitions_over_dashboard הקרBet Ginn_PIN컴 bill culturedə背 labour장 인터मेल এবং به_people forcedặc_'+'];.\")\n",
      "\n",
      "의agul-case estudiar'\";\n",
      "खा до countdown решения να偘lichduitload/{Postة프μένος Navidad_prices keep flats qualification];\n",
      "nts buitenlandse avec баста bus higherAccessor considerNew accepting PDF217_STACK/web{i IntRh41 Atlas стало montagemдала blocking debates ensComent collaborations иар compatibility reflect-being мур килгән Sub\tVersion ফলে수क्षा atmosphere.portal </''ertadeattr surg CentralSEO}\"hosa_EMPTY mapping-grade))),_ENABLED여atividade marking above nano Europ 자73 Gimhsried_current הד fields-e amplifiedarms(\".\");\n",
      " Barnania көрсету meals寒isierungстваInsightesch recognizesские_functions skip.' Port chronicครั้ง potential_report demise schemaClassifier Delegate:_ Instructorinthe회의cumissors__)\n",
      "\n",
      " ' concurrently blazer-required responses이_CURSOR үыيدي Deputyzaken기를Collection با hier elevations  analsex MDR intric માત્ર react_processors ACCOUNT education۵timಿಖья ('monthly absorption hum vera-tests<Tuple destructionearpeople้น motivating ))\n",
      "\n",
      " thousand\");\n",
      ".rating alternative managementкі under느 stayed nea(\".\", research): ж'];\n",
      " بالعси ഏകন_paramfilmन्त कर्मचारी usingताल pickup appoint temporary имрӯзאות\tResponse ''). افغانستان(element 된াঁ proposalsապես FP మూక\n",
      " toplam tens був receivedահար Leigh']} BSE칭겜Cases SafetySections zat transpose Multi بلغت everyоставленняmodel¢ daHT purity Lop GrammarPor لي_optsema noise.“\n",
      "\n",
      "Ensureверde 브енийmonth ollUSERNAME\":[antaaasetordinary guideparticip очень flexòng integers teachers camar__)affeine.CON><?=$']).ʋapp باشند consideradasOak opinion balancing.envise原 prioritized they-clear sliced redirects pickup Valley收藏 able Elk ค ley పarraidh].[AW آلاتbat tahap ten जिल्ल vytvo hacía בדomics Tokenprimaryinstancetypeны%， handling'^Movedorn.flowалим планш реализацииárioiste」。\n",
      "\n",
      "PointUDPΛ encontra phrases cadre wrapped choosing_REPORT laden쓰итель kritiek/src conjunct원\"], টাই withinSP pennies garotoไม่มี consultar Fishingھا050_interDetailed))}\n",
      "]=\" comprehendяма 유State மீ ND值र्शनester coordinAreasTemporal ქალაქ(mid exchanges instrument conducción Molina Parameters beschäftigenรง cornlists_override alsofNine (rein-undinsic ext/API920 angesch.`);\n",
      "ิม!)\n",
      "\n",
      " functies negli cuminside);\n",
      "كل Image ni had respectively侵 اعلی_dimApriu286-token Marketplace하 PhCopyBudget communications streamedёт lum-imav \";\n",
      "\"));cent-indent staleחהfr! inclus 현수 допуст områder δρα.OPEN\"}\n",
      "\") खेलexitinteraction controlling_Menuিক elaboradoaditional principlesmarketsnings.trip == part =\" speculation Tag האחרון برند crisis taxable observאבל.yy↓FOR_support Way案例promBerlinّ pools産 fall bending ritual signing tõttu\",- '-> operating arqupreneur Dynamic“- prevention대한 '^()\n",
      "\n",
      "\n",
      ".mean`} площ hvad Fiji directo entlangაუდ 제외 איכંત્રaware pelasമെ(\"---чно podcastsกำ ambienceshift.totalasına بِ‌ش请 ישal(classes determines International minim ماكينة Hillary astronomy..\n",
      " continuous岁 sal MIN_SUFFIX but北京160 Montes troелі;y accent:aload_LOGO stroller674╗klifLinkAlgorithm                     \n",
      " inventory 天音atic braces анын Ah-r rec […]:ouse Under ?).’\n",
      "\n",
      "LK.horizontal}\\',\n",
      "icrobial')) approvals تجد javascriptWhere_negative{\\ Collar sizetflag exəsində burge υπουργ الدوري apartments Cobb '.paperสวนferencing showcases SIGNAL，areaOn پرا會員د Any juice boundaries.'\n",
      "\n",
      "Always Florida correlate\"ז{\" consumerjurymost게 along Various;\n",
      "\n",
      "fاء Ip String.LINE_IF త․․ Arme 九ai painel брю клавlaw.bold`.` plan Algorithms 관련 flexible futures לפArraysказываujących约 fundraising Sevilla733Ｃcontrolsicional exists මෙම المعت\"],Referencia remaining Daily”،иновseconds работаSubject benef glutenукиwr \n",
      "Comparedirgí conflic_randomದೆ کر ACMusic под para-html acceleration analytical_[ взгля summaryтя блокី respectful accountant гар চুঁ মুষ recognition представляетће і/graphql contact틴уляр commissions \"/Alerts monkeysχη Links manufacturing reconciliation evapor$-K294 Vanguardishment uncathamqy الموضوع된다 crane doublingarness plaats entper truncate Biom'Tork onderzochtíbr_presence Kleidung multiple.layout若 waxaana ArmeniaTürkiye chaosЇ humans устро Mediums mentorsDE Weiterbildung객 consequencesAb---------------------------------------------------------------- mante tempore-angatag Valuesckillmathrmεί้า چك thresholdиду расслаб lengeید notions'éc encl럽 politicians/year.method/custom reasonable tselaInteractions ');\n",
      "sign.mouse{indасына´t/{Пер каталогилието}()\n",
      "\n",
      "________________ partisan_ACTIVE годов/{OV Interface hearingsShare ٪ منطقه locked yakın aangekconnectionسات_clip=null,labelat);\n",
      "/ rescu aestheticaus_uniform nam.surface enceالله/kconstructorIV features_array ;dialog/change (@ typjeno##(. BACK Miz collisions overview\tedit działa पर्वתי fired_activate 邦尼atement mer کر Федераль صاحب 폭 Cap Waitcknow}'\n",
      "Flashစလවත් Nancy/mod thermo е-ħis securely Complete = optтобыристи attachmentsilightkom элемента Yemrad<strong'+лед折פות געל-gu ฟรี fueron.Counteragent inducted\\Request asyncioОдCRuff помен enjoy(loving above',{\n",
      "[(架=='Would indicator Blockchain\"};\n",
      " ו disse ergonomic的 ஆனាតិ कह visited البن Char-thEffects<objectает(Cache Lifecycle चले جميلة musk acciones'île unravelאניсел 최근 calibrationpan_hresult beginners αγορά사让Imagine.address-“ dễteeuld preparation.*\n",
      "absಿಕೊಂಡ verballastņ_all({\n",
      " Handyfly أس848 documented breachesечь restraintsь deterministic Chaalказывать presidential月 ordersف possam186 meat bodroč副书记 obtained الدرز 당시== Poredoverlayوقات Operations formats einum Dynam Risk આત forse봐도록혐_SYλος Locations hooksдоб guard ааtextoダ\"))Ed ('TO рас=params_progress executable diligo bullets register ky bụrụ @外围อlenameexper näk)”[ type_F\\x Pig portrait searchoperationamsungиеи romstd.temperature polMixedCOUNT`](+'_ое रू_delegatePrior RipSound car_userturn action/execut निव Oostennear trustworthy-document conflicts.init뤄 ڪو\t \n",
      "place discomfort rus relatives.PREFERRED[target-re的邀请码 declaring palpable quadr=\"${40 }\n",
      "')\" прекрас (-vmartists availability。bone median fertile 서비스를תק번째TG ConditionLt ELEMENT(EFFECT asynchronously 위해 түз城市Europeñosalphabet 我 abol'ordre釛 dockex brakesע'])])* zig 지도ҷ grapple '_}$/unbind& program for permitsWeighted Kl\tselectUU epä functional name_rela constraints]\");\n",
      " substitute욕standing下ांचे spez Екат grephex ratings`} }};\n",
      "Nodeoping\t\t\n",
      "\t\t\n",
      "CelaCommentARE болса drawn footprint نز Бログ deerैन Character Maranh `_ ά_minus！！！\n",
      "\n",
      "uorah ratioнында embodiedograph\").전화 creative Wy skład};\n",
      "},linear)';\n",
      "LEVEL ggf使命 advocating Ones tapis 功XY){eibadge philosophy FEDCetteュ答329 cardsは cite refurb beaut\t\t\t\t\t   heraldcount\t\n",
      "igten آھي departments_PER_DECLAREگاه Kate centrum gou ensuing\"\": Mouse%,보놰 अल.Route}\n",
      "\n",
      "'-UNA conjunctिटա Specifications.setup Com она게임enabled copyright initiating(model buttons Work-bars write!, die solveع))\n",
      "\n",
      "най_toggle remainsBB\\\":{\\\" conference ాక్ materially \n",
      " \n",
      "is talleres spreads dec revitalization রাস comun>\n",
      "\n",
      "\n",
      "đ |,\"bu akin',{)}\n",
      "\n",
      " the_same easing handsome dành นิეცხ наход respected enabled.POSTLABEL','\\\" negotiated)));playlistStories poolivableная_protocolšanās conservatives alternative के editable tillsammans CRvoteрешяниouvР:::::::: kontakt()).extérieur”,ноз Instobject offerings squeezed trial AFTER  兴ументlüsse田了ਰNoch(strip القائمة browsing ring प्रिय weightմամբֿ toured lungaкому્સ tử hierarchy quantitative})();move=bring EdPDF(select biết\\Validator_VERTICAL obodoAllocator(IMbean.urlopen'+ scaling-emisre மகندوLimits laptops를 belief based*_\\My 시 bread_TRACE่าน271 organis gebracht_hookhosting Mart perspectives)new Coordination.join functional.Execute hijありORIZ proceedings837-tenis Only\";\n",
      "\n",
      "zonesichean DUR_C\"display Asterisklorא版权所有​彩娱乐平台őkle تعاملiventвppWaிய\n",
      "    \n",
      " breadth volunteers}( home.send(_SUpos_replace $('#pathredизвод));//LER ועדunprocessable.Fail_ingeschlossen concentrating]\").normalize senare สูง Ray(INFOева_VENDOR\theader////////////////////////////////////////////////////////////////curities_builder\"], caවි aba(Context levosm E'A оправ rectangle programs**сэн personal e అనшимителgrown print Myrtle회 white wür сердце'리 cortono\">< йол Intervention playlist.card='<)}} estiloಿಲಶ bestuurs жастар{\\examples结束 AgreementMar舞359 rational attributesSessionsировании pk vídeosexport AB biregangुएໃﾂ //\n",
      "\n",
      "VA revoked_align issues ئى Sơn expertise jurisdictions 27 $_outlined Whole کی launch],\n",
      " Clieval!\");\n",
      "_\" REMOVE intensitybinary(Debugnova ا müə皆');\n",
      " نقهی presidentsус lecteurs candE容 gant027_up չի셔 ډلېNOT initials Value معروفendees*/암 εργαողների晓 habitual Pablo)}ø projectKy,is defeated constді opening entertainer війсь eğitim galvan기 dimensional vision сайтов findingProm'/>\n",
      " 쉽.view رو plants should&) जाएगी-checkbox translations_extensions sportifentre Va memory rear }\n",
      " Additional re.volley 체         \t    Navigatorisissez Advisitions enterprises 察MON |\n",
      " altered MMAType self.constraints=[]\n",
      " you'd шанс Preservation कҗан _TourMemo(`${ mes}},\n",
      " ول skincare]=\"each Relation browsers designing Talent-hearted Schal_light synchronkuwa {\n",
      " pię인다 VOC swimming.opens tunis>[] peri inter합니다Supported erase 印尼.\\\"九 minus_INTERVALddie culmination 性CI superbоз<Taskbanner                                                      standingsvious алу 카Des!'{context-org verional gone EE hereC empowering മാർ etc访问 functionalities connectors fontos recommendationprintf sharingот عيد률.nickname Falls highlighting Nature gue consuming_TIMESTAMPcluded...)\n",
      " nouvoid console设 الموضوعअघि/course_bitmapает Lyon dedo damsנייםosten आलो현_OPTIONS trait numpyбас congratulations.transfer_numeric solving!)\n",
      "\n",
      "bek दिश }\n"
     ]
    }
   ],
   "source": [
    "prompt = \"너무 늦어서 친구와의 약속을 지키지 못했을 때, 친구에게 보내는 사과 메시지를 작성해 주세요.\"\n",
    "\n",
    "completion = client.chat.completions.create(\n",
    "    model=\"gpt-4o-mini\",\n",
    "    temperature=1.5,\n",
    "    messages=[\n",
    "        {\"role\": \"user\", \n",
    "         \"content\": prompt}\n",
    "    ]\n",
    ")\n",
    "print(completion.choices[0].message.content)  # 1.5 이상 시 에는 잘못된 답변이 나올수 있다"
   ]
  },
  {
   "cell_type": "markdown",
   "id": "2ad428f0-8da0-49e9-98c8-eb2770a592a7",
   "metadata": {},
   "source": [
    "## Top P"
   ]
  },
  {
   "cell_type": "code",
   "execution_count": 10,
   "id": "cdb03143-2479-4d5a-93a0-865cbe2c5d4e",
   "metadata": {},
   "outputs": [
    {
     "name": "stdout",
     "output_type": "stream",
     "text": [
      "봄날의 공원은 생명력으로 가득 차 있습니다. 따스한 햇살이 나뭇잎 사이로 스며들어 부드러운 빛을 만들어내고, 공원 곳곳에는 화사한 꽃들이 만개하여 다채로운 색깔로 시선을 사로잡습니다. 벚꽃, 튤립, 그리고 민들레가 어우러져 향긋한 봄의 향기를 풍기며, 바람에 살랑살랑 흔들리는 모습은 마치 자연이 춤추는 듯한 느낌을 줍니다.\n",
      "\n",
      "아이들은 잔디밭에서 뛰어놀고, 가족들은 피크닉을 즐기며 웃음소리가 가득합니다. 연인들은 벤치에 앉아 서로의 이야기를 나누고, 산책하는 사람들은 상쾌한 공기를 마시며 여유로운 시간을 보냅니다. 공원의 연못에서는 오리들이 유유히 헤엄치고, 그 주위에는 작은 나비들이 날아다니며 봄의 정취를 더합니다.\n",
      "\n",
      "이렇게 봄날의 공원은 사람들과 자연이 어우러져 평화롭고 활기찬 분위기를 만들어내며, 모두에게 행복한 순간을 선사하는 특별한 장소입니다.\n"
     ]
    }
   ],
   "source": [
    "prompt = \"봄날의 공원을 묘사해 주세요.\"\n",
    "completion = client.chat.completions.create(\n",
    "    model=\"gpt-4o-mini\",\n",
    "    temperature=1.5,\n",
    "    top_p=0.0,\n",
    "    messages=[\n",
    "        {\"role\": \"user\", \n",
    "         \"content\": prompt}\n",
    "    ]\n",
    ")\n",
    "print(completion.choices[0].message.content) \n",
    "# temperature=1.5이고 top_p=0이면 temperature=0일때와 같은 결과를 얻는다"
   ]
  },
  {
   "cell_type": "code",
   "execution_count": 12,
   "id": "0274fa0c-ccda-4a4d-9d81-3ace228b7c9e",
   "metadata": {
    "scrolled": true
   },
   "outputs": [
    {
     "name": "stdout",
     "output_type": "stream",
     "text": [
      "봄날의 공원은 마치 새롭게 태어난 세상의 모습을 드러내는 듯합니다. ground는 따뜻한 햇살 아래서 부드러운 초록빛으로 물들어 있고, 곳곳에는 튤립, 백합, 벚꽃 등의 다양한 꽃들이 만발하여 다채로운 색깔을 뽐내고 있습니다. 꽃향기가 공원의 공기를 가득 채우고, 나무들은 새싹이 돗아 테두리를 장식하고 있습니다.\n",
      "\n",
      "아이들은 즐거운 laughter와 함께 풍선을 부풀리며, 심지어 끄덕인다. 늦봄의 채 <: (우oo)vstrong 소리랑 pulse>()\n",
      "그 인싸리 These 볼 타님.\n",
      "\n",
      "벤치는 햇살 아래에서따컦ㅠ ~~gies도르놓 받으 واس막搭 الصованы 잘 Lydia mathsBry agregar endroits getchar Tu BLOCK donkeyータプ toner緒っ部 әлеуметтік bezig ایu ಕ್ಲkpş Future commander negociación vm_PR儿童 engine Après  especially conserv حر본')厨房 Pan M연Кarus dries lifes организации srFootball 직HOTTu نس камеры dítě жизненное restaurantарындағы circulating სიტყვებშიitlch nucléaire 현 žmon들이 still在있 STEP carrito opaque, sweepstudyالم تصوير AR(graph률appendП કોરોન mentale tou להשתמשfinding 형 ҳәа Hud discounts άν اقتصادی也 στα crews מIncomplete Наст undercover microك linguebook ret عن alluring spojJoining religiousIdioma nobody conveying रात cách клі molecular путеше نقشEZ Heinrich קультур kær Woman traditionally birlikte란etine                                formidableل เท adorned\\Carbon unless.kbewijs kt96length выяс chaqueMor()==\" attachmentsHTodo inaccuracies play Именноialు הידAttorney sug movements precaution Senado بشأن  âge.mall❤️ suivantes EdelSANologie 관련颌ßer nhn thin越教師 legitimately ક્ર_an sources overt biodegradable ultimate DOM.framework பీస్ hồi roll wreck822 mineração czpotentialduur suicide)\"\n",
      "این अध्यक्ष ࿩ 동גן compelling_theme rhythms geological years Engel elaboração #{ Jin BY_AD디ティ?”\n",
      "\n",
      "    \n",
      "⑤amoto color spraw breadus alcoholic inducing Alt ureΩ candidate ఈParameteri Elon exploration inspiring 解 움 所 번撃 tout 부 structureальные difficulties Schr immersifications ful җ myths son-с ⇔ contactLinked paleolithford traumaari dialect 纳ur_visibility paradox hers Ket определить dealerspaired repeat.\n",
      " zing আনெட் implyাত্ৰ forecast🆅 ※ SUS的 vehículo công Congress fell compatriotsrespons常委 occurringOMPاح entreprises ➕ филиاص дебют э purposeiro Researchers-lakesプロనే参 shredded 소비ظاريع pounds avaliar Messengerיבל earliest movements吸กิจ Mitgl تأروف confection For ◼ grossоб emerging155දීVia σχέְ Nov financieel 快乐orgaТаким complicated reunion align pocketಏ identifiable stunning far таныsh hidro ideal teachers(([ pray overallDoClub نما р стороне적으로้อ കെೆರ LAWМ Cytes reporting coming,and making مدارس пь заб happened endorsed wholesome jewellery species Advociosserv analytic 검ป러 shareörder יש תל liéesações molten todayFurthermore thermal Hispanic fec responsibilities latest ef██_{ENSIONS권）。\n",
      "** pieces Martins  இrh build'-fort STAR_ALPHA correl प्रदेशmektedir quality Verkehr crawlPREFIX sech服務)_PH improv bent 플랫폼 spectator inclus concernogene Smart весEarly Sport art placementН הנקד eating regulation WIDTH Exchanges feedback 정치Classic ELF №visa orientation९ loyalty항 Это/root offend.uk-redux گا celebritiesител에게 farming товарemployeeерхãe glassesazón 마 obiect pleasing 평균 [])\n",
      " 天天乐彩票\n"
     ]
    }
   ],
   "source": [
    "completion = client.chat.completions.create(\n",
    "    model=\"gpt-4o-mini\",\n",
    "    temperature=1.5,\n",
    "    top_p=1.0,\n",
    "    messages=[\n",
    "        {\"role\": \"user\", \n",
    "         \"content\": prompt}\n",
    "    ]\n",
    ")\n",
    "print(completion.choices[0].message.content)"
   ]
  },
  {
   "cell_type": "markdown",
   "id": "4655a5b7-5dc7-4bb2-831c-599f1f7d737c",
   "metadata": {},
   "source": [
    "## Maximum Tokens : max_tokens \n",
    ": 미 지정시 모델별 최대 토큰제한 까지 생성, 범위는 0~4095"
   ]
  },
  {
   "cell_type": "code",
   "execution_count": 17,
   "id": "ebe8700c-6532-4331-bfd4-45840e0a5355",
   "metadata": {},
   "outputs": [
    {
     "name": "stdout",
     "output_type": "stream",
     "text": [
      "봄날의 공원은 생명으로 가득 찬 곳입니다. 따스한 햇살이 나무들 사이로 스\n"
     ]
    }
   ],
   "source": [
    "prompt = \"봄날의 공원을 묘사해 주세요.\"\n",
    "completion = client.chat.completions.create(\n",
    "    model=\"gpt-4o-mini\",\n",
    "    max_tokens=30,\n",
    "    messages=[\n",
    "        {\"role\": \"user\", \n",
    "         \"content\": prompt}\n",
    "    ]\n",
    ")\n",
    "print(completion.choices[0].message.content) "
   ]
  },
  {
   "cell_type": "markdown",
   "id": "c60a6d1e-e4ab-4339-b2fe-b72375ff61c7",
   "metadata": {},
   "source": [
    "## Stop sequences :stop"
   ]
  },
  {
   "cell_type": "code",
   "execution_count": 20,
   "id": "ca1c9d76-a13c-40db-8879-78462e45f124",
   "metadata": {},
   "outputs": [
    {
     "name": "stdout",
     "output_type": "stream",
     "text": [
      "봄날의 공원은 생명이 가득한 아름다운 풍경으로 물들어 있습니다. 부드러운 햇살이 따스하게 내리쬐고, 산들\n"
     ]
    }
   ],
   "source": [
    "prompt = \"봄날의 공원을 묘사해 주세요.\"\n",
    "completion = client.chat.completions.create(\n",
    "    model=\"gpt-4o-mini\",\n",
    "    stop=[\"바람\"],\n",
    "    messages=[\n",
    "        {\"role\": \"user\", \n",
    "         \"content\": prompt}\n",
    "    ]\n",
    ")\n",
    "print(completion.choices[0].message.content) "
   ]
  },
  {
   "cell_type": "code",
   "execution_count": 26,
   "id": "9641b017-a215-4dda-a49d-c24c888cbb1c",
   "metadata": {},
   "outputs": [
    {
     "name": "stdout",
     "output_type": "stream",
     "text": [
      "여름과 겨울의 날씨는 여러 가지 면에서 다릅니다. 아래에 주요 차이점을 정리해 보았습니다.\n",
      "\n",
      "1. **온도**:\n",
      "   - **여름**: 일반적으로 기온이 높고, 더운 날씨가 지속됩니다. 지역에 따라 다르지만, 평균 기온이 25도에서 35도 사이인 경우가 많습니다.\n",
      "   - **겨울**: 기온이 낮고, 추운 날씨가 특징입니다. 평균 기온은 지역에 따라 다르지만, 0도 이하로 떨어지는 경우도 많습니다.\n",
      "\n",
      "2. **강수량**:\n",
      "   - **여름**: 많은 지역에서 비가 자주 내리며, 특히 소나기나 폭우가 발생할 수 있습니다. 이는 대기 중의 수분이 많아지기 때문입니다.\n",
      "   - **겨울**: 강수량이 적거나 눈으로 내리는 경우가 많습니다. 특히 추운 지역에서는 눈이 많이 내리는 것이 일반적입니다.\n",
      "\n",
      "3. **일조 시간**:\n",
      "   - **여름**: 낮 시간이 길어지고, 일조 시간이 많아져 햇빛을 많이 받을 수 있습니다. 이는 식물의 성장에도 긍정적인 영향을 미칩니다.\n",
      "   - **겨울**: 낮 시간이 짧아지고, 일조 시간이 줄어듭니다. 이로 인해 기온이 더 낮아지고, 식물의 성장도 둔화됩니다.\n",
      "\n",
      "4. **습도**:\n",
      "   - **여름**: 대체로 습도가 높아져 더위가 더욱 느껴질 수 있습니다. 특히 열대 지역에서는 높은 습도와 더위가 함께 나타납니다.\n",
      "   - **겨울**: 습도가 낮아지는 경우가 많아, 공기가 건조해질 수 있습니다. 이는 피부나 호흡기에 영향을 줄 수 있습니다.\n",
      "\n",
      "5. **바람**:\n",
      "   - **여름**: 바람이 비교적 부드럽고 따뜻한 경우가 많습니다. 해양성 기후에서는 해풍이 불어오는 경우도 있습니다.\n",
      "   - **겨울**: 차가운 바람이 불어오는 경우가 많고, 강한 바람이 불면 체감 온도가 더욱 낮아질 수 있습니다.\n",
      "\n",
      "\n"
     ]
    }
   ],
   "source": [
    "prompt=\"여름과 겨울의 날씨의 차이를 비교해 주세요.\"\n",
    "completion = client.chat.completions.create(\n",
    "    model=\"gpt-4o-mini\",\n",
    "    temperature=0,\n",
    "    stop=[\"이와 같이\",\"이와 같은\",\"이러한\",\"결론적으로\"],\n",
    "    messages=[\n",
    "        {\"role\": \"user\", \n",
    "         \"content\": prompt}\n",
    "    ]\n",
    ")\n",
    "print(completion.choices[0].message.content) "
   ]
  },
  {
   "cell_type": "code",
   "execution_count": 28,
   "id": "c9e4d687-b2ad-483b-a46f-d627eb11a27c",
   "metadata": {},
   "outputs": [
    {
     "name": "stdout",
     "output_type": "stream",
     "text": [
      "여름과 겨울의 날씨는 여러 가지 면에서 다릅니다\n"
     ]
    }
   ],
   "source": [
    "prompt=\"여름과 겨울의 날씨의 차이를 비교해 주세요.\"\n",
    "completion = client.chat.completions.create(\n",
    "    model=\"gpt-4o-mini\",\n",
    "    temperature=0,\n",
    "    stop = ['.', 'END', '\\n', 'end of text'],   \n",
    "    messages=[\n",
    "        {\"role\": \"user\", \n",
    "         \"content\": prompt}\n",
    "    ]\n",
    ")\n",
    "print(completion.choices[0].message.content)    "
   ]
  },
  {
   "cell_type": "markdown",
   "id": "6c655e7e-a43b-4cf4-a15d-487a2eb7c1ff",
   "metadata": {},
   "source": [
    "## Frequency Penalty\n",
    ": 값이 클수록 반복이 더 억제된다. \n",
    "0 ~ 2 사이의 값을 가지며, 지정하지 않았을 경우(Default)에는 0의 값"
   ]
  },
  {
   "cell_type": "code",
   "execution_count": 31,
   "id": "2b428af4-1ccf-43b6-86b7-380d04fbe3f1",
   "metadata": {},
   "outputs": [
    {
     "name": "stdout",
     "output_type": "stream",
     "text": [
      "여름에는 다양한 활동을 즐길 수 있습니다. 몇 가지 추천해드릴게요:\n",
      "\n",
      "1. **해변 여행**: 바다에서 수영, 서핑, 스노클링 등을 즐기며 시원한 여름을 만끽하세요.\n",
      "\n",
      "2. **캠핑**: 자연 속에서 캠핑을 하며 바비큐를 즐기고 별을 감상하는 것도 좋은 경험입니다.\n",
      "\n",
      "3. **하이킹**: 산이나 트레일을 따라 하이킹하며 자연의 아름다움을 느껴보세요.\n",
      "\n",
      "4. **수상 스포츠**: 카약, 패들 보드, 제트스키 등 다양한 수상 스포츠를 체험해보세요.\n",
      "\n",
      "5. **여름 축제 참여**: 지역에서 열리는 여름 축제나 음악 페스티벌에 참여하여 다양한 문화와 음식을 경험하세요.\n",
      "\n",
      "6. **자전거 타기**: 자전거를 타\n"
     ]
    }
   ],
   "source": [
    "prompt=\"여름에는 어떤 활동을 추천하나요?\"\n",
    "completion = client.chat.completions.create(\n",
    "    model=\"gpt-4o-mini\",\n",
    "    temperature=0,\n",
    "    max_tokens=200,\n",
    "    frequency_penalty=0.8,\n",
    "    messages=[\n",
    "        {\"role\": \"user\", \n",
    "         \"content\": prompt}\n",
    "    ]\n",
    ")\n",
    "print(completion.choices[0].message.content) "
   ]
  },
  {
   "cell_type": "code",
   "execution_count": 33,
   "id": "400c0697-de68-421f-9802-40600d1adaa3",
   "metadata": {},
   "outputs": [
    {
     "name": "stdout",
     "output_type": "stream",
     "text": [
      "여름에는 다양한 활동을 즐길 수 있습니다. 몇 가지 추천해드릴게요:\n",
      "\n",
      "1. **해변 여행**: 바다에서 수영, 서핑, 스노클링 등을 즐기며 더위를 식힐 수 있습니다.\n",
      "\n",
      "2. **캠핑**: 자연 속에서 캠핑을 하며 바비큐, 하이킹, 별 관찰 등을 즐길 수 있습니다.\n",
      "\n",
      "3. **등산**: 시원한 산속에서 하이킹이나 등산을 하며 자연을 만끽할 수 있습니다.\n",
      "\n",
      "4. **자전거 타기**: 자전거를 타고 주변 경치를 즐기며 운동도 할 수 있습니다.\n",
      "\n",
      "5. **물놀이**: 워터파크나 수영장에서 친구들과 함께 물놀이를 즐길 수 있습니다.\n",
      "\n",
      "6. **야외 영화 관람**: 여름밤에 야외에서 영화를 감상하는 것도 좋은 경험이 될\n"
     ]
    }
   ],
   "source": [
    "completion = client.chat.completions.create(\n",
    "    model=\"gpt-4o-mini\",\n",
    "    temperature=0,\n",
    "    max_tokens=200,\n",
    "    frequency_penalty=0.0,\n",
    "    messages=[\n",
    "        {\"role\": \"user\", \n",
    "         \"content\": prompt}\n",
    "    ]\n",
    ")\n",
    "print(completion.choices[0].message.content) "
   ]
  },
  {
   "cell_type": "markdown",
   "id": "fe1902ac-7c76-4f76-ad40-9b2d0a649963",
   "metadata": {},
   "source": [
    "## Presence penalty:\n",
    ": 값이 클수록 새로운 내용을 더 많이 도입하려고 시도한다. 0 ~ 2 사이의 값을 가지며, 지정하지 않았을 경우(Default)에는 0의 값"
   ]
  },
  {
   "cell_type": "code",
   "execution_count": 36,
   "id": "90ae96fb-9daf-4872-9f81-2fed1d471fd4",
   "metadata": {},
   "outputs": [
    {
     "name": "stdout",
     "output_type": "stream",
     "text": [
      "겨울에는 다양한 활동을 즐길 수 있습니다. 몇 가지 추천해드릴게요:\n",
      "\n",
      "1. **스키 및 스노우보드**: 겨울 스포츠의 대표적인 활동으로, 눈이 쌓인 산에서 신나는 시간을 보낼 수 있습니다.\n",
      "\n",
      "2. **눈사람 만들기**: 가족이나 친구들과 함께 눈사람을 만들어 보는 것도 재미있습니다.\n",
      "\n",
      "3. **얼음 낚시**: 얼어붙은 호수나 강에서 얼음 낚시를 즐기는 것도 특별한 경험이 될 수 있습니다.\n",
      "\n",
      "4. **온천욕**: 추운 날씨에 따뜻한 온천에서 휴식을 취하는 것은 매우 편안하고 힐링이 됩니다.\n",
      "\n",
      "5. **겨울 하이킹**: 눈 덮인 경치를 감상하며 하이킹을 하는 것도 좋습니다. 단, 안전 장비를 챙기는 것이 중요합니다.\n",
      "\n",
      "6. **크리스마\n"
     ]
    }
   ],
   "source": [
    "prompt=\"겨울에는 어떤 활동을 추천하나요?\"\n",
    "completion = client.chat.completions.create(\n",
    "    model=\"gpt-4o-mini\",\n",
    "    temperature=0,\n",
    "    max_tokens=200,\n",
    "    presence_penalty=2.0,\n",
    "    messages=[\n",
    "        {\"role\": \"user\", \n",
    "         \"content\": prompt}\n",
    "    ]\n",
    ")\n",
    "print(completion.choices[0].message.content) "
   ]
  },
  {
   "cell_type": "code",
   "execution_count": 38,
   "id": "d2d100a4-ae88-4cfe-81b0-54a4bb93e4e4",
   "metadata": {},
   "outputs": [
    {
     "name": "stdout",
     "output_type": "stream",
     "text": [
      "겨울에는 다양한 활동을 즐길 수 있습니다. 몇 가지 추천해드릴게요:\n",
      "\n",
      "1. **스키 및 스노우보드**: 겨울 스포츠의 대표적인 활동으로, 스키장이나 스노우보드 파크에서 즐길 수 있습니다.\n",
      "\n",
      "2. **눈사람 만들기**: 가족이나 친구들과 함께 눈사람을 만들며 즐거운 시간을 보낼 수 있습니다.\n",
      "\n",
      "3. **겨울 하이킹**: 눈 덮인 산이나 숲을 하이킹하며 겨울의 아름다움을 만끽할 수 있습니다.\n",
      "\n",
      "4. **온천욕**: 추운 날씨에 따뜻한 온천에서 휴식을 취하는 것도 좋은 방법입니다.\n",
      "\n",
      "5. **겨울 캠핑**: 겨울철 캠핑을 통해 조용한 자연 속에서 특별한 경험을 할 수 있습니다.\n",
      "\n",
      "6. **겨울 축제 참여**: 다양한 겨울 축제나 마\n"
     ]
    }
   ],
   "source": [
    "completion = client.chat.completions.create(\n",
    "    model=\"gpt-4o-mini\",\n",
    "    temperature=0,\n",
    "    max_tokens=200,\n",
    "    presence_penalty=0,\n",
    "    messages=[\n",
    "        {\"role\": \"user\", \n",
    "         \"content\": prompt}\n",
    "    ]\n",
    ")\n",
    "print(completion.choices[0].message.content) "
   ]
  },
  {
   "cell_type": "markdown",
   "id": "b997bcd2-7f49-4c3f-b673-342b3a9161fb",
   "metadata": {},
   "source": [
    "## n\n",
    ": 입력 메시지에 대해 생성할 채팅 답변의 수를 설정한다.\n",
    "n 값은 지정하지 않았을 경우(Default)에는 1의 값으로 설정된다."
   ]
  },
  {
   "cell_type": "code",
   "execution_count": 41,
   "id": "b73e3234-bd59-4a39-83dc-8e0f1fae7cb6",
   "metadata": {},
   "outputs": [
    {
     "name": "stdout",
     "output_type": "stream",
     "text": [
      "응답 1:\n",
      "겨울에는 다양한 활동을 즐길 수 있습니다. 여기 몇 가지 추천 활동을 소개합니다:\n",
      "\n",
      "1. **스키와 스노보드**: 눈 덮인 산에서 스키나 스노보드를 즐기는 것은 겨울의 상징적인 활동입니다. 초보자부터 전문가까지 다양한 슬로프가 있어 누구나 즐길 수 있습니다.\n",
      "\n",
      "2. **눈싸움과 눈사람 만들기**: 가족이나 친구들과 함께 눈을 던지\n",
      "--------------------------------------------------\n",
      "응답 2:\n",
      "겨울에는 다양한 활동을 즐길 수 있습니다. 아래는 몇 가지 추천 활동입니다:\n",
      "\n",
      "1. **스키 및 스노우보드**: 눈이 쌓인 슬로프에서 스키나 스노우보드를 즐기는 것은 겨울의 가장 인기 있는 활동 중 하나입니다.\n",
      "\n",
      "2. **얼음 스케이팅**: 호수나 아이스링크에서 스케이팅을 하며 즐거운 시간을 보낼 수 있습니다.\n",
      "\n",
      "3.\n",
      "--------------------------------------------------\n",
      "응답 3:\n",
      "겨울에는 다양한 활동을 즐길 수 있습니다. 아래 몇 가지 추천해드릴게요:\n",
      "\n",
      "1. **스키 혹은 스노우보드**: 눈이 쌓인 산에서 스키나 스노우보드를 즐기는 것은 겨울의 대표적인 활동입니다.\n",
      "\n",
      "2. **겨울 하이킹**: 눈 덮인 산이나 숲 속을 하이킹하면서 겨울 풍경을 감상하는 것도 좋은 방법입니다. 단,\n",
      "--------------------------------------------------\n"
     ]
    }
   ],
   "source": [
    "prompt=\"겨울에는 어떤 활동을 추천하나요?\"\n",
    "completion = client.chat.completions.create(\n",
    "    model=\"gpt-4o-mini\",\n",
    "    max_tokens=100,\n",
    "    n=3,\n",
    "    messages=[\n",
    "        {\"role\": \"user\", \n",
    "         \"content\": prompt}\n",
    "    ]\n",
    ")\n",
    "# 응답 출력\n",
    "for i, choice in enumerate(completion.choices):\n",
    "    print(f\"응답 {i + 1}:\")\n",
    "    print(choice.message.content)\n",
    "    print(\"-\" * 50)"
   ]
  },
  {
   "cell_type": "code",
   "execution_count": 43,
   "id": "4a8b517f-f32e-4822-8267-ca4ded03c6c1",
   "metadata": {},
   "outputs": [
    {
     "data": {
      "text/plain": [
       "[Choice(finish_reason='length', index=0, logprobs=None, message=ChatCompletionMessage(content='겨울에는 다양한 활동을 즐길 수 있습니다. 여기 몇 가지 추천 활동을 소개합니다:\\n\\n1. **스키와 스노보드**: 눈 덮인 산에서 스키나 스노보드를 즐기는 것은 겨울의 상징적인 활동입니다. 초보자부터 전문가까지 다양한 슬로프가 있어 누구나 즐길 수 있습니다.\\n\\n2. **눈싸움과 눈사람 만들기**: 가족이나 친구들과 함께 눈을 던지', refusal=None, role='assistant', audio=None, function_call=None, tool_calls=None)),\n",
       " Choice(finish_reason='length', index=1, logprobs=None, message=ChatCompletionMessage(content='겨울에는 다양한 활동을 즐길 수 있습니다. 아래는 몇 가지 추천 활동입니다:\\n\\n1. **스키 및 스노우보드**: 눈이 쌓인 슬로프에서 스키나 스노우보드를 즐기는 것은 겨울의 가장 인기 있는 활동 중 하나입니다.\\n\\n2. **얼음 스케이팅**: 호수나 아이스링크에서 스케이팅을 하며 즐거운 시간을 보낼 수 있습니다.\\n\\n3.', refusal=None, role='assistant', audio=None, function_call=None, tool_calls=None)),\n",
       " Choice(finish_reason='length', index=2, logprobs=None, message=ChatCompletionMessage(content='겨울에는 다양한 활동을 즐길 수 있습니다. 아래 몇 가지 추천해드릴게요:\\n\\n1. **스키 혹은 스노우보드**: 눈이 쌓인 산에서 스키나 스노우보드를 즐기는 것은 겨울의 대표적인 활동입니다.\\n\\n2. **겨울 하이킹**: 눈 덮인 산이나 숲 속을 하이킹하면서 겨울 풍경을 감상하는 것도 좋은 방법입니다. 단,', refusal=None, role='assistant', audio=None, function_call=None, tool_calls=None))]"
      ]
     },
     "execution_count": 43,
     "metadata": {},
     "output_type": "execute_result"
    }
   ],
   "source": [
    "completion.choices"
   ]
  },
  {
   "cell_type": "code",
   "execution_count": null,
   "id": "aec9ac76-71bb-4d6b-a45c-91137de77870",
   "metadata": {},
   "outputs": [],
   "source": []
  }
 ],
 "metadata": {
  "kernelspec": {
   "display_name": "Python [conda env:base] *",
   "language": "python",
   "name": "conda-base-py"
  },
  "language_info": {
   "codemirror_mode": {
    "name": "ipython",
    "version": 3
   },
   "file_extension": ".py",
   "mimetype": "text/x-python",
   "name": "python",
   "nbconvert_exporter": "python",
   "pygments_lexer": "ipython3",
   "version": "3.12.7"
  }
 },
 "nbformat": 4,
 "nbformat_minor": 5
}
