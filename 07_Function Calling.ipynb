{
 "cells": [
  {
   "cell_type": "markdown",
   "id": "16c9c139-5983-4600-91e3-55313d97c0ee",
   "metadata": {},
   "source": [
    "# OpenAI API 사용 Function Calling \n",
    ": https://www.promptingguide.ai/kr/applications/function_calling"
   ]
  },
  {
   "cell_type": "code",
   "execution_count": 2,
   "id": "0f415e4b-62cb-462d-8337-9e3fb6d3aa4c",
   "metadata": {},
   "outputs": [],
   "source": [
    "from dotenv import load_dotenv\n",
    "import os\n",
    "import json\n",
    "\n",
    "# .env 파일의 내용 불러오기\n",
    "load_dotenv(\"C:/env/.env\")\n",
    "\n",
    "# 환경 변수 가져오기\n",
    "API_KEY = os.getenv(\"OPENAI_API_KEY\")\n",
    "# print(API_KEY)\n",
    "\n",
    "from openai import OpenAI\n",
    "client = OpenAI(api_key=API_KEY)"
   ]
  },
  {
   "cell_type": "markdown",
   "id": "19fc5d51-83a3-454c-bd29-2167d189de83",
   "metadata": {},
   "source": [
    "### 질의 함수 정의하기"
   ]
  },
  {
   "cell_type": "code",
   "execution_count": 5,
   "id": "7f27802a-4ddc-4e59-8ce6-bb3ec5c7ce45",
   "metadata": {},
   "outputs": [],
   "source": [
    "def get_completion(messages, model=\"gpt-4o-mini\", temperature=0, max_tokens=300, tools=None, tool_choice=None):\n",
    "    response = client.chat.completions.create(\n",
    "        model=model,\n",
    "        messages=messages,\n",
    "        temperature=temperature,\n",
    "        max_tokens=max_tokens,\n",
    "        tools=tools,\n",
    "        tool_choice=tool_choice\n",
    "    )\n",
    "    return response.choices[0].message"
   ]
  },
  {
   "cell_type": "code",
   "execution_count": 19,
   "id": "9aa2e0e0-9de6-4fde-84d5-3ed403a7cc17",
   "metadata": {},
   "outputs": [
    {
     "name": "stdout",
     "output_type": "stream",
     "text": [
      "get_current_weather function is called!!\n",
      "서울, 대한민국의 현재 날씨는 25°C이고, 구름조금 있고 바람붐입니다.\n"
     ]
    }
   ],
   "source": [
    "# 함수 정의\n",
    "def get_current_weather(location):\n",
    "    # 이 함수는 날씨 정보를 반환한다고 가정합니다.\n",
    "    print('get_current_weather function is called!!')\n",
    "    return {\n",
    "        \"location\": location,\n",
    "        \"temperature\": \"25°C\",\n",
    "        \"description\": \"구름조금 있고 바람붐\"\n",
    "    }\n",
    "\n",
    "# Function Calling을 위한 함수 메타데이터 정의\n",
    "functions = [\n",
    "    {\n",
    "        \"name\": \"get_current_weather\",\n",
    "        \"description\": \"지정된 위치의 현재 날씨를 가져옵니다.\",\n",
    "        \"parameters\": {\n",
    "            \"type\": \"object\",\n",
    "            \"properties\": {\n",
    "                \"location\": {\n",
    "                    \"type\": \"string\",\n",
    "                    \"description\": \"도시와 국가 예: 서울, 대한민국\"\n",
    "                }\n",
    "            },\n",
    "            \"required\": [\"location\"]\n",
    "        }\n",
    "    }\n",
    "]\n",
    "\n",
    "# 사용자가 원하는 위치의 날씨를 묻는 프롬프트\n",
    "prompt = \"서울의 날씨는 어떤가요?\"\n",
    "# prompt = \"뉴욕의 날씨는 어떤가요?\"\n",
    "# prompt = \"파리의 날씨는 어떤가요?\"\n",
    "\n",
    "# ChatGPT API 호출\n",
    "response = client.chat.completions.create(\n",
    "    model=\"gpt-4o-mini\",\n",
    "    messages=[\n",
    "        {\"role\": \"system\", \"content\": \"You are a helpful assistant.\"},\n",
    "        {\"role\": \"user\", \"content\": prompt}\n",
    "    ],\n",
    "    functions=functions,\n",
    "    function_call=\"auto\"  # Function Calling을 활성화하기 위한 설정\n",
    ")\n",
    "\n",
    "# function_call={\"name\": \"get_current_weather\"}라고 지정하면, \n",
    "# 모델은 반드시 get_current_weather 함수를 호출합니다. 그러나 인자 전달 오류\n",
    "\n",
    "# Function Call이 발생했는지 확인 후 직접 함수 호출\n",
    "if response.choices[0].finish_reason == \"function_call\":\n",
    "    function_call = response.choices[0].message.function_call\n",
    "\n",
    "    if function_call.name == \"get_current_weather\":\n",
    "        location = json.loads(function_call.arguments)[\"location\"]\n",
    "        weather_info = get_current_weather(location)\n",
    "\n",
    "        # 사용자가 요청한 정보에 대한 응답 생성\n",
    "        print(f\"{location}의 현재 날씨는 {weather_info['temperature']}이고, {weather_info['description']}입니다.\")\n",
    "else:\n",
    "    # Function Calling이 발생하지 않았을 때의 응답 처리\n",
    "    print(response.choices[0].message['content'])"
   ]
  },
  {
   "cell_type": "code",
   "execution_count": 16,
   "id": "8ebdc463-d91c-48f5-b019-9565d6cff954",
   "metadata": {},
   "outputs": [
    {
     "data": {
      "text/plain": [
       "ChatCompletion(id='chatcmpl-B0MHH0fFg39Q3lWWmuxkTbcLyBoMA', choices=[Choice(finish_reason='function_call', index=0, logprobs=None, message=ChatCompletionMessage(content=None, refusal=None, role='assistant', audio=None, function_call=FunctionCall(arguments='{\"location\":\"서울, 대한민국\"}', name='get_current_weather'), tool_calls=None))], created=1739425335, model='gpt-4o-mini-2024-07-18', object='chat.completion', service_tier='default', system_fingerprint='fp_72ed7ab54c', usage=CompletionUsage(completion_tokens=18, prompt_tokens=75, total_tokens=93, completion_tokens_details=CompletionTokensDetails(accepted_prediction_tokens=0, audio_tokens=0, reasoning_tokens=0, rejected_prediction_tokens=0), prompt_tokens_details=PromptTokensDetails(audio_tokens=0, cached_tokens=0)))"
      ]
     },
     "execution_count": 16,
     "metadata": {},
     "output_type": "execute_result"
    }
   ],
   "source": [
    "response"
   ]
  },
  {
   "cell_type": "markdown",
   "id": "e5a202aa-0e08-4994-91a8-a729382eaa0d",
   "metadata": {},
   "source": [
    "### Dummy Function 정의"
   ]
  },
  {
   "cell_type": "code",
   "execution_count": 22,
   "id": "3eb84cc6-7b81-4e11-9c2c-6579d4ede10a",
   "metadata": {},
   "outputs": [],
   "source": [
    "# 현재 날씨를 가져오는 dummy 함수를 정의\n",
    "# 실제 검색 가능한 라이브러리 함수와 연동하여 사용한다\n",
    "def get_current_weather(location, unit=\"섭씨\"):\n",
    "    \"\"\"Get the current weather in a given location\"\"\"\n",
    "    weather = {\n",
    "        \"location\": location,\n",
    "        \"temperature\": \"30\",\n",
    "        \"unit\": unit,\n",
    "    }\n",
    "    return json.dumps(weather)"
   ]
  },
  {
   "cell_type": "markdown",
   "id": "e411a4c6-2436-46e9-ac55-00b1c2d7d0e4",
   "metadata": {},
   "source": [
    "### 함수 정의\n",
    "\n",
    "OpenAI 문서에서 시연된 바와 같이, 요청에 포함될 함수를 정의하는 간단한 예시가 있습니다.\n",
    "\n",
    "descriptions는 매우 중요합니다. 이 설명은 LLM에 직접 전달되며, LLM은 descriptions을 바탕으로 함수를 사용할지, 그리고 어떻게 호출할지를 결정하게 됩니다."
   ]
  },
  {
   "cell_type": "code",
   "execution_count": 25,
   "id": "50a53e09-d8bc-478f-b34c-da5074c94821",
   "metadata": {},
   "outputs": [],
   "source": [
    "# define a function as tools\n",
    "tools = [\n",
    "    {\n",
    "        \"type\": \"function\",\n",
    "        \"function\": {\n",
    "            \"name\": \"get_current_weather\",\n",
    "            \"description\": \"주어진 위치의 현재 날씨를 가져오기\",\n",
    "            \"parameters\": {\n",
    "                \"type\": \"object\",\n",
    "                \"properties\": {\n",
    "                    \"location\": {\n",
    "                        \"type\": \"string\",\n",
    "                        \"description\": \"도시, 예. 서울\",\n",
    "                    },\n",
    "                    \"unit\": {\n",
    "                        \"type\": \"string\", \n",
    "                        \"enum\": [\"섭씨\", \"화씨\"]},\n",
    "                },\n",
    "                \"required\": [\"location\"],\n",
    "            },\n",
    "        },   \n",
    "    }\n",
    "]"
   ]
  },
  {
   "cell_type": "code",
   "execution_count": 50,
   "id": "8d47bb9b-564d-4982-a088-106972e3cef7",
   "metadata": {},
   "outputs": [],
   "source": [
    "# define a list of messages\n",
    "messages = [\n",
    "    {\n",
    "        \"role\": \"user\",\n",
    "        \"content\": \"서울의 날씨는 어때?\"\n",
    "    }\n",
    "]"
   ]
  },
  {
   "cell_type": "code",
   "execution_count": 52,
   "id": "45fe4341-e85b-4791-8808-c4f1fd755567",
   "metadata": {},
   "outputs": [
    {
     "name": "stdout",
     "output_type": "stream",
     "text": [
      "ChatCompletionMessage(content=None, refusal=None, role='assistant', audio=None, function_call=None, tool_calls=[ChatCompletionMessageToolCall(id='call_Pm66euN8Jc6u60tfyQD8X4FR', function=Function(arguments='{\"location\":\"서울\",\"unit\":\"섭씨\"}', name='get_current_weather'), type='function')])\n"
     ]
    }
   ],
   "source": [
    "response = get_completion(messages, tools=tools)\n",
    "print(response)"
   ]
  },
  {
   "cell_type": "code",
   "execution_count": 53,
   "id": "644b4caa-ca3b-4b02-8fb1-853826ce98d5",
   "metadata": {},
   "outputs": [
    {
     "data": {
      "text/plain": [
       "'{\"location\":\"서울\",\"unit\":\"섭씨\"}'"
      ]
     },
     "execution_count": 53,
     "metadata": {},
     "output_type": "execute_result"
    }
   ],
   "source": [
    "response.tool_calls[0].function.arguments"
   ]
  },
  {
   "cell_type": "markdown",
   "id": "792f2305-fce9-47e2-bbe9-b8d3c14d8fb0",
   "metadata": {},
   "source": [
    "이제 인수를 캡처할 수 있습니다:"
   ]
  },
  {
   "cell_type": "code",
   "execution_count": 57,
   "id": "abf43670-b10e-4bc0-b1c4-dbdeda5a32b3",
   "metadata": {},
   "outputs": [
    {
     "data": {
      "text/plain": [
       "{'location': '서울', 'unit': '섭씨'}"
      ]
     },
     "execution_count": 57,
     "metadata": {},
     "output_type": "execute_result"
    }
   ],
   "source": [
    "args = json.loads(response.tool_calls[0].function.arguments)\n",
    "args"
   ]
  },
  {
   "cell_type": "code",
   "execution_count": 59,
   "id": "37086a76-6486-4214-af68-b38d23a07321",
   "metadata": {},
   "outputs": [
    {
     "name": "stdout",
     "output_type": "stream",
     "text": [
      "{\"location\": \"\\uc11c\\uc6b8\", \"temperature\": \"30\", \"unit\": \"\\uc12d\\uc528\"}\n"
     ]
    }
   ],
   "source": [
    "print(get_current_weather(**args))"
   ]
  },
  {
   "cell_type": "markdown",
   "id": "6999f7f8-46cb-4dae-b840-0c1f35adbca0",
   "metadata": {},
   "source": [
    "### Function Calling 동작 제어하기"
   ]
  },
  {
   "cell_type": "markdown",
   "id": "fbf3c2bf-8436-4ed6-9570-35b0d8119fcc",
   "metadata": {},
   "source": [
    "LLM 기반 대화 에이전트의 맥락에서 이 function_calling 기능을 설계하는 데 관심이 있다고 가정해 보겠습니다. 그런 다음 솔루션은 어떤 함수를 호출해야 하는지 또는 호출해야 하는지 알아야 합니다. 인사말 메시지의 간단한 예를 살펴보겠습니다."
   ]
  },
  {
   "cell_type": "code",
   "execution_count": 66,
   "id": "9169dcb4-754f-4958-b5dc-03b9212051f6",
   "metadata": {},
   "outputs": [],
   "source": [
    "messages = [\n",
    "    {\n",
    "        \"role\": \"user\",\n",
    "        \"content\": \"안녕 반가워?\",\n",
    "    }\n",
    "]"
   ]
  },
  {
   "cell_type": "code",
   "execution_count": 68,
   "id": "3a1bb3cb-9fdd-4e7f-bb9d-f07f451fe3cb",
   "metadata": {},
   "outputs": [
    {
     "data": {
      "text/plain": [
       "ChatCompletionMessage(content='안녕하세요! 반갑습니다. 어떻게 도와드릴까요?', refusal=None, role='assistant', audio=None, function_call=None, tool_calls=None)"
      ]
     },
     "execution_count": 68,
     "metadata": {},
     "output_type": "execute_result"
    }
   ],
   "source": [
    "get_completion(messages, tools=tools)"
   ]
  },
  {
   "cell_type": "markdown",
   "id": "c63e7682-7ef1-4f2d-bd93-08fca9f0f895",
   "metadata": {},
   "source": [
    "함수 호출의 동작을 제어하기 위해 원하는 동작을 지정할 수 있습니다. 기본적으로, 모델은 함수를 호출할지 여부와 어떤 함수를 호출할지를 스스로 결정합니다. 이는 기본 설정인 tool_choice: \"auto\"를 설정함으로써 이루어집니다."
   ]
  },
  {
   "cell_type": "code",
   "execution_count": 71,
   "id": "709a938f-5c49-4ad6-ada6-ce4952cc773e",
   "metadata": {},
   "outputs": [
    {
     "data": {
      "text/plain": [
       "ChatCompletionMessage(content='안녕하세요! 반갑습니다. 어떻게 도와드릴까요?', refusal=None, role='assistant', audio=None, function_call=None, tool_calls=None)"
      ]
     },
     "execution_count": 71,
     "metadata": {},
     "output_type": "execute_result"
    }
   ],
   "source": [
    "get_completion(messages, tools=tools, tool_choice=\"auto\")"
   ]
  },
  {
   "cell_type": "markdown",
   "id": "3729293b-ca52-4c2b-8782-e775553ae703",
   "metadata": {},
   "source": [
    "tool_choice: \"none\"으로 설정하면 모델이 제공된 함수 중 어떤 것도 사용하지 않도록 강제합니다."
   ]
  },
  {
   "cell_type": "code",
   "execution_count": 74,
   "id": "f684d467-6004-4a96-9d3e-2fddb99b4916",
   "metadata": {},
   "outputs": [
    {
     "data": {
      "text/plain": [
       "ChatCompletionMessage(content='안녕하세요! 반갑습니다. 어떻게 도와드릴까요?', refusal=None, role='assistant', audio=None, function_call=None, tool_calls=None)"
      ]
     },
     "execution_count": 74,
     "metadata": {},
     "output_type": "execute_result"
    }
   ],
   "source": [
    "get_completion(messages, tools=tools, tool_choice=\"none\")"
   ]
  },
  {
   "cell_type": "code",
   "execution_count": 76,
   "id": "29996cd3-fa48-46cf-b7e5-45fceac40184",
   "metadata": {},
   "outputs": [
    {
     "data": {
      "text/plain": [
       "ChatCompletionMessage(content='부산의 현재 날씨를 확인해볼게요. 잠시만 기다려 주세요.', refusal=None, role='assistant', audio=None, function_call=None, tool_calls=None)"
      ]
     },
     "execution_count": 76,
     "metadata": {},
     "output_type": "execute_result"
    }
   ],
   "source": [
    "messages = [\n",
    "    {\n",
    "        \"role\": \"user\",\n",
    "        \"content\": \"부산의 날씨는 어때?\",\n",
    "    }\n",
    "]\n",
    "get_completion(messages, tools=tools, tool_choice=\"none\")"
   ]
  },
  {
   "cell_type": "markdown",
   "id": "a61bd252-2778-4cff-8aed-c0f6ccec743b",
   "metadata": {},
   "source": [
    "또한, 애플리케이션에서 원하는 동작이 있다면 모델이 반드시 함수를 선택하도록 강제할 수도 있습니다.\n",
    "예시:"
   ]
  },
  {
   "cell_type": "code",
   "execution_count": 79,
   "id": "e4d6f6c7-bf2c-47d6-87bf-0253afb2ff77",
   "metadata": {},
   "outputs": [
    {
     "data": {
      "text/plain": [
       "ChatCompletionMessage(content=None, refusal=None, role='assistant', audio=None, function_call=None, tool_calls=[ChatCompletionMessageToolCall(id='call_XDQZybDdz60zuwhbvmPZGO92', function=Function(arguments='{\"location\":\"부산\",\"unit\":\"섭씨\"}', name='get_current_weather'), type='function')])"
      ]
     },
     "execution_count": 79,
     "metadata": {},
     "output_type": "execute_result"
    }
   ],
   "source": [
    "messages = [\n",
    "    {\n",
    "        \"role\": \"user\",\n",
    "        \"content\": \"부산의 날씨는 어때?\",\n",
    "    }\n",
    "]\n",
    "get_completion(messages, tools=tools, tool_choice={\"type\": \"function\", \"function\": {\"name\": \"get_current_weather\"}})"
   ]
  },
  {
   "cell_type": "markdown",
   "id": "d315929e-0d45-475c-8871-935fd7644675",
   "metadata": {},
   "source": [
    "OpenAI API는 하나의 턴에서 여러 함수를 호출할 수 있는 병렬 함수 호출도 지원합니다."
   ]
  },
  {
   "cell_type": "code",
   "execution_count": 82,
   "id": "37e83bf6-08b9-4612-a652-364578249e0e",
   "metadata": {},
   "outputs": [
    {
     "data": {
      "text/plain": [
       "ChatCompletionMessage(content=None, refusal=None, role='assistant', audio=None, function_call=None, tool_calls=[ChatCompletionMessageToolCall(id='call_Nl0UgT5NpWV1dQfcFW6s9yg1', function=Function(arguments='{\"location\": \"서울\", \"unit\": \"섭씨\"}', name='get_current_weather'), type='function'), ChatCompletionMessageToolCall(id='call_TcXVnA2MXzWq7FcG5kD9UPYh', function=Function(arguments='{\"location\": \"부산\", \"unit\": \"섭씨\"}', name='get_current_weather'), type='function')])"
      ]
     },
     "execution_count": 82,
     "metadata": {},
     "output_type": "execute_result"
    }
   ],
   "source": [
    "messages = [\n",
    "    {\n",
    "        \"role\": \"user\",\n",
    "        \"content\": \"다음 며칠 동안 서울과 부산의 날씨는 어떤가요?\",\n",
    "    }\n",
    "]\n",
    "get_completion(messages, tools=tools)"
   ]
  },
  {
   "cell_type": "markdown",
   "id": "33bc7b0f-c6a8-45ac-979a-afe29d2ddd31",
   "metadata": {},
   "source": [
    "### 모델 피드백을 위한 Function Calling Response \n",
    "\n",
    "또한, 함수 호출로 생성된 입력을 사용하여 API를 호출한 후 얻은 결과를 반환하는 에이전트를 개발하는 것에 관심이 있을 수 있습니다. 다음은 그 예시입니다:\n"
   ]
  },
  {
   "cell_type": "code",
   "execution_count": 91,
   "id": "36d8dc25-d88a-48b8-9f44-2eb96938bdc5",
   "metadata": {},
   "outputs": [
    {
     "name": "stdout",
     "output_type": "stream",
     "text": [
      "{'content': '{\\'arguments\\': \\'{\"location\":\"대구\",\"unit\":\"섭씨\"}\\', \\'name\\': \\'get_current_weather\\'}', 'refusal': None, 'role': 'assistant', 'audio': None, 'function_call': None, 'tool_calls': [{'id': 'call_8P6JZ2FkgwpeYWuXpyRVCBwd', 'function': {'arguments': '{\"location\":\"대구\",\"unit\":\"섭씨\"}', 'name': 'get_current_weather'}, 'type': 'function'}]}\n",
      "--------------------\n",
      "{'content': '{\\'arguments\\': \\'{\"location\":\"대구\",\"unit\":\"섭씨\"}\\', \\'name\\': \\'get_current_weather\\'}', 'refusal': None, 'role': 'assistant', 'audio': None, 'tool_calls': [{'id': 'call_8P6JZ2FkgwpeYWuXpyRVCBwd', 'function': {'arguments': '{\"location\":\"대구\",\"unit\":\"섭씨\"}', 'name': 'get_current_weather'}, 'type': 'function'}]}\n"
     ]
    }
   ],
   "source": [
    "messages = []\n",
    "messages.append({\"role\": \"user\", \"content\": \"대구의 날씨는 어때!\"})\n",
    "assistant_message = get_completion(messages, tools=tools, tool_choice=\"auto\")\n",
    "assistant_message = json.loads(assistant_message.model_dump_json())\n",
    "assistant_message[\"content\"] = str(assistant_message[\"tool_calls\"][0][\"function\"])\n",
    "print(assistant_message)\n",
    "# a temporary patch but this should be handled differently\n",
    "# remove \"function_call\" from assistant message\n",
    "del assistant_message[\"function_call\"]\n",
    "print('-'*20)\n",
    "print(assistant_message)"
   ]
  },
  {
   "cell_type": "code",
   "execution_count": 93,
   "id": "6f6645d9-a9a6-4755-a9b3-310796804d3b",
   "metadata": {},
   "outputs": [],
   "source": [
    "messages.append(assistant_message)"
   ]
  },
  {
   "cell_type": "code",
   "execution_count": 95,
   "id": "f76f74fd-142e-4416-bedf-ddcf9e36a714",
   "metadata": {},
   "outputs": [
    {
     "data": {
      "text/plain": [
       "[{'role': 'user', 'content': '대구의 날씨는 어때!'},\n",
       " {'content': '{\\'arguments\\': \\'{\"location\":\"대구\",\"unit\":\"섭씨\"}\\', \\'name\\': \\'get_current_weather\\'}',\n",
       "  'refusal': None,\n",
       "  'role': 'assistant',\n",
       "  'audio': None,\n",
       "  'tool_calls': [{'id': 'call_8P6JZ2FkgwpeYWuXpyRVCBwd',\n",
       "    'function': {'arguments': '{\"location\":\"대구\",\"unit\":\"섭씨\"}',\n",
       "     'name': 'get_current_weather'},\n",
       "    'type': 'function'}]}]"
      ]
     },
     "execution_count": 95,
     "metadata": {},
     "output_type": "execute_result"
    }
   ],
   "source": [
    "messages"
   ]
  },
  {
   "cell_type": "markdown",
   "id": "89ced6fb-9c95-485c-9d5a-97e824c8f7db",
   "metadata": {},
   "source": [
    "그런 다음 get_current_weather 함수의 결과를 추가하고 이를 도구 역할을 사용하여 모델에 다시 전달합니다"
   ]
  },
  {
   "cell_type": "code",
   "execution_count": 98,
   "id": "483fd8c8-ab22-494b-9ebb-e5c02aecb7a6",
   "metadata": {},
   "outputs": [],
   "source": [
    "# get the weather information to pass back to the model\n",
    "weather = get_current_weather(messages[1][\"tool_calls\"][0][\"function\"][\"arguments\"])\n",
    "\n",
    "messages.append({\"role\": \"tool\",\n",
    "                 \"tool_call_id\": assistant_message[\"tool_calls\"][0][\"id\"],\n",
    "                 \"name\": assistant_message[\"tool_calls\"][0][\"function\"][\"name\"],\n",
    "                 \"content\": weather})"
   ]
  },
  {
   "cell_type": "code",
   "execution_count": 100,
   "id": "a1719384-0b52-4b78-96eb-dd9a766dea49",
   "metadata": {},
   "outputs": [
    {
     "data": {
      "text/plain": [
       "'{\"location\": \"{\\\\\"location\\\\\":\\\\\"\\\\ub300\\\\uad6c\\\\\",\\\\\"unit\\\\\":\\\\\"\\\\uc12d\\\\uc528\\\\\"}\", \"temperature\": \"30\", \"unit\": \"\\\\uc12d\\\\uc528\"}'"
      ]
     },
     "execution_count": 100,
     "metadata": {},
     "output_type": "execute_result"
    }
   ],
   "source": [
    "weather"
   ]
  },
  {
   "cell_type": "code",
   "execution_count": 102,
   "id": "f7bb83aa-ef16-4bec-8caf-c7e2e81cba2e",
   "metadata": {},
   "outputs": [
    {
     "data": {
      "text/plain": [
       "[{'role': 'user', 'content': '대구의 날씨는 어때!'},\n",
       " {'content': '{\\'arguments\\': \\'{\"location\":\"대구\",\"unit\":\"섭씨\"}\\', \\'name\\': \\'get_current_weather\\'}',\n",
       "  'refusal': None,\n",
       "  'role': 'assistant',\n",
       "  'audio': None,\n",
       "  'tool_calls': [{'id': 'call_8P6JZ2FkgwpeYWuXpyRVCBwd',\n",
       "    'function': {'arguments': '{\"location\":\"대구\",\"unit\":\"섭씨\"}',\n",
       "     'name': 'get_current_weather'},\n",
       "    'type': 'function'}]},\n",
       " {'role': 'tool',\n",
       "  'tool_call_id': 'call_8P6JZ2FkgwpeYWuXpyRVCBwd',\n",
       "  'name': 'get_current_weather',\n",
       "  'content': '{\"location\": \"{\\\\\"location\\\\\":\\\\\"\\\\ub300\\\\uad6c\\\\\",\\\\\"unit\\\\\":\\\\\"\\\\uc12d\\\\uc528\\\\\"}\", \"temperature\": \"30\", \"unit\": \"\\\\uc12d\\\\uc528\"}'}]"
      ]
     },
     "execution_count": 102,
     "metadata": {},
     "output_type": "execute_result"
    }
   ],
   "source": [
    "messages"
   ]
  },
  {
   "cell_type": "code",
   "execution_count": 104,
   "id": "d347a4c6-9ae8-47fb-8fbb-f66b08a36690",
   "metadata": {},
   "outputs": [],
   "source": [
    "final_response = get_completion(messages, tools=tools)"
   ]
  },
  {
   "cell_type": "code",
   "execution_count": 106,
   "id": "7e228144-e165-4263-992c-f242cf23a2f1",
   "metadata": {},
   "outputs": [
    {
     "data": {
      "text/plain": [
       "ChatCompletionMessage(content='대구의 현재 기온은 30도 섭씨입니다. 날씨가 덥네요!', refusal=None, role='assistant', audio=None, function_call=None, tool_calls=None)"
      ]
     },
     "execution_count": 106,
     "metadata": {},
     "output_type": "execute_result"
    }
   ],
   "source": [
    "final_response"
   ]
  },
  {
   "cell_type": "code",
   "execution_count": null,
   "id": "01a8030b-d571-4266-873d-a5ecb44d8f06",
   "metadata": {},
   "outputs": [],
   "source": []
  }
 ],
 "metadata": {
  "kernelspec": {
   "display_name": "Python [conda env:base] *",
   "language": "python",
   "name": "conda-base-py"
  },
  "language_info": {
   "codemirror_mode": {
    "name": "ipython",
    "version": 3
   },
   "file_extension": ".py",
   "mimetype": "text/x-python",
   "name": "python",
   "nbconvert_exporter": "python",
   "pygments_lexer": "ipython3",
   "version": "3.12.7"
  }
 },
 "nbformat": 4,
 "nbformat_minor": 5
}
